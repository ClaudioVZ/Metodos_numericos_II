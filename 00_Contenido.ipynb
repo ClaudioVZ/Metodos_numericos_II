{
 "cells": [
  {
   "cell_type": "markdown",
   "metadata": {},
   "source": [
    "# Contenido\n",
    "\n",
    "* Introducción a Julia\n",
    "    * [A](01_Introduccion_Julia/00_intro.ipynb)\n",
    "    * [B](01_Introduccion_Julia/01_intro.ipynb)\n",
    "    * [C](01_Introduccion_Julia/02_intro.ipynb)\n",
    "* Ecuaciones diferenciales\n",
    "    * [Introducción](02_Ecuaciones_diferenciales/01_intro.ipynb)\n",
    "    * [Errores](02_Ecuaciones_diferenciales/02_errores.ipynb)\n",
    "    * [Método de Euler](02_Ecuaciones_diferenciales/04_Euler.ipynb)\n",
    "    * [Métodos de Runge-Kutta](02_Ecuaciones_diferenciales/05_Runge-Kutta.ipynb)\n",
    "* Diferencias finitas\n",
    "    * [Método de Liebmann](03_Diferencias_finitas/01_metodo_liebmann.ipynb)\n",
    "    * [Método implícito simple](03_Diferencias_finitas/02_simple_implicito.ipynb)\n",
    "* Volumenes finitos\n",
    "* Cálculo variacional\n",
    "* Elementos finitos\n",
    "    * Métodos analíticos aproximados\n",
    "        * [Método de Galerkin](06_Elementos_finitos/001_metodo_galerkin.ipynb)\n",
    "    * Polinomios de Lagrange\n",
    "        * [Coordenadas globales](06_Elementos_finitos/002_polinomios_lagrange_globales.ipynb)\n",
    "        * [Coordenadas locales](06_Elementos_finitos/003_polinomios_lagrange_locales.ipynb)\n",
    "    * [Elemento barra en tracción-compresión](06_Elementos_finitos/004_elemento_barra.ipynb)\n",
    "        * Coordenadas globales\n",
    "            * [Ejemplo 1](06_Elementos_finitos/005_ejemplo_barra_globales.ipynb)\n",
    "            * [Ejemplo 2](06_Elementos_finitos/006_ejemplo_barra_globales.ipynb)\n",
    "            * [Ejemplo 3](06_Elementos_finitos/007_ejemplo_barra_globales.ipynb)\n",
    "        * Coordenadas locales\n",
    "            * [Ejemplo 1](06_Elementos_finitos/008_ejemplo_barra_locales.ipynb)\n",
    "            * [Ejemplo 2](06_Elementos_finitos/009_ejemplo_barra_locales.ipynb)\n",
    "            * [Ejemplo 3](06_Elementos_finitos/010_ejemplo_barra_locales.ipynb)\n",
    "    * [Elemento barra en torsión](06_Elementos_finitos/011_elemento_barra.ipynb)\n",
    "    * Polinomios de Hermite\n",
    "        * [Coordenadas globales](06_Elementos_finitos/012_polinomios_hermite_globales.ipynb)\n",
    "        * [Coordenadas locales](06_Elementos_finitos/013_polinomios_hermite_locales.ipynb)\n",
    "    * [Elemento viga Euler-Bernoulli](06_Elementos_finitos/014_elemento_viga.ipynb)\n",
    "        * Coordenadas globales\n",
    "            * [Ejemplo 1](06_Elementos_finitos/015_ejemplo_viga_globales.ipynb)\n",
    "            * [Ejemplo 2](06_Elementos_finitos/016_ejemplo_viga_globales.ipynb)\n",
    "        * Coordenadas locales\n",
    "            * [Ejemplo 1](06_Elementos_finitos/017_ejemplo_viga_locales.ipynb)\n",
    "            * [Ejemplo 2](06_Elementos_finitos/018_ejemplo_viga_locales.ipynb)\n",
    "    * Coordenadas naturales\n",
    "        * [Elemento barra](06_Elementos_finitos/019_coordenadas_naturales)\n",
    "            * [Ejemplo 3](06_Elementos_finitos/020_ejemplo_barra_naturales.ipynb)\n",
    "        * [Elemento viga Euler-Bernoulli](06_Elementos_finitos/021_coordenadas_naturales)\n",
    "    * Funciones de forma bidimensionales\n",
    "        * Elementos triangulares\n",
    "            * [Coordenadas globales](06_Elementos_finitos/022_elemento_triangulo_globales.ipynb)\n",
    "    * [Esfuerzo plano](06_Elementos_finitos/023_esfuerzo_plano.ipynb) \n",
    "* Elementos finitos discontinuos\n",
    "* Elementos finitos mixtos "
   ]
  }
 ],
 "metadata": {
  "kernelspec": {
   "display_name": "Python 2",
   "language": "python",
   "name": "python2"
  },
  "language_info": {
   "codemirror_mode": {
    "name": "ipython",
    "version": 2
   },
   "file_extension": ".py",
   "mimetype": "text/x-python",
   "name": "python",
   "nbconvert_exporter": "python",
   "pygments_lexer": "ipython2",
   "version": "2.7.10"
  }
 },
 "nbformat": 4,
 "nbformat_minor": 0
}
