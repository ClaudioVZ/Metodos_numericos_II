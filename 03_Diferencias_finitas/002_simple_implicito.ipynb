{
 "cells": [
  {
   "cell_type": "markdown",
   "metadata": {},
   "source": [
    "# Método de diferencias finitas\n",
    "\n",
    "### Ecuación de conducción del calor\n",
    "\n",
    "En una dimensión\n",
    "\n",
    "\\begin{equation}\n",
    "    k \\frac{\\partial^{2} T}{\\partial x^{2}} = \\frac{\\partial T}{\\partial t}\n",
    "\\end{equation}\n",
    "\n",
    "aproximando $T_{xx}$\n",
    "\n",
    "\\begin{equation}\n",
    "    \\frac{\\partial^{2} T}{\\partial x^{2}} = \\frac{T^{l}_{i-1} - 2 T^{l}_{i} + T^{l}_{i+1}}{\\Delta x^{2}}\n",
    "\\end{equation}\n",
    "\n",
    "aproximando $T_{t}$\n",
    "\n",
    "\\begin{equation}\n",
    "    \\frac{\\partial T}{\\partial t} = \\frac{T^{l+1}_{i} - T^{l}_{i}}{\\Delta t}\n",
    "\\end{equation}\n",
    "\n",
    "reemplazando\n",
    "\n",
    "\\begin{equation}\n",
    "    k \\frac{T^{l}_{i-1} - 2 T^{l}_{i} + T^{l}_{i+1}}{\\Delta x^{2}} = \\frac{T^{l+1}_{i} - T^{l}_{i}}{\\Delta t}\n",
    "\\end{equation}\n",
    "\n",
    "despejando $T^{l+1}_{i}$\n",
    "\n",
    "\\begin{equation}\n",
    "    T^{l+1}_{i} = T^{l}_{i} + k \\frac{\\Delta t}{\\Delta x^{2}} (T^{l}_{i-1} - 2 T^{l}_{i} + T^{l}_{i+1}) \n",
    "\\end{equation}\n",
    "\n",
    "##Ejemplo\n",
    "\n",
    "Resolver\n",
    "\n",
    "\\begin{equation}\n",
    "    k \\frac{\\partial^{2} T}{\\partial x^{2}} = \\frac{\\partial T}{\\partial t}\n",
    "\\end{equation}\n",
    "\n",
    "para\n",
    "\n",
    "\\begin{align}\n",
    "    k &= 0.835 \\\\\n",
    "    T(0 < x < 10, 0.2) &= ?\n",
    "\\end{align}\n",
    "\n",
    "sujeto a\n",
    "\n",
    "\\begin{align}\n",
    "    T(0, t) &= 100 \\\\\n",
    "    T(10, t) &= 50 \\\\\n",
    "    T(0 < x < 10, 0) &= 0\n",
    "\\end{align}\n",
    "\n",
    "para la solución numérica usamos\n",
    "\n",
    "\\begin{align}\n",
    "    \\Delta x &= 2 \\\\\n",
    "    \\Delta t &= 0.1\n",
    "\\end{align}\n",
    "\n",
    "Condición inicial"
   ]
  },
  {
   "cell_type": "markdown",
   "metadata": {},
   "source": [
    "imagen"
   ]
  },
  {
   "cell_type": "markdown",
   "metadata": {},
   "source": [
    "\\begin{align}\n",
    "    T^{0}_{0} &= 100 \\\\\n",
    "    T^{0}_{1} &= 0 \\\\\n",
    "    T^{0}_{2} &= 0 \\\\\n",
    "    T^{0}_{3} &= 0 \\\\\n",
    "    T^{0}_{4} &= 0 \\\\\n",
    "    T^{0}_{5} &= 50\n",
    "\\end{align}\n",
    "\n",
    "Para $l = 0$\n",
    "\n",
    "\\begin{align}\n",
    "    T^{l+1}_{i} &= T^{l}_{i} + k \\frac{\\Delta t}{\\Delta x^{2}} (T^{l}_{i-1} - 2 T^{l}_{i} + T^{l}_{i+1}) \\\\\n",
    "    T^{0+1}_{i} &= T^{0}_{i} + k \\frac{\\Delta t}{\\Delta x^{2}} (T^{0}_{i-1} - 2 T^{0}_{i} + T^{0}_{i+1}) \\\\\n",
    "    T^{1}_{i} &= T^{0}_{i} + k \\frac{\\Delta t}{\\Delta x^{2}} (T^{0}_{i-1} - 2 T^{0}_{i} + T^{0}_{i+1})\n",
    "\\end{align}\n",
    "\n",
    "**Nodo 1**\n",
    "\n",
    "\\begin{align}\n",
    "    T^{1}_{i} &= T^{0}_{i} + k \\frac{\\Delta t}{\\Delta x^{2}} (T^{0}_{i-1} - 2 T^{0}_{i} + T^{0}_{i+1}) \\\\\n",
    "    T^{1}_{1} &= T^{0}_{1} + k \\frac{\\Delta t}{\\Delta x^{2}} (T^{0}_{1-1} - 2 T^{0}_{1} + T^{0}_{1+1}) \\\\\n",
    "    T^{1}_{1} &= T^{0}_{1} + k \\frac{\\Delta t}{\\Delta x^{2}} (T^{0}_{0} - 2 T^{0}_{1} + T^{0}_{2})\n",
    "\\end{align}"
   ]
  },
  {
   "cell_type": "markdown",
   "metadata": {},
   "source": [
    "<img align=\"left\" src=\"imagenes/006_DF02_1.svg\">"
   ]
  },
  {
   "cell_type": "markdown",
   "metadata": {},
   "source": [
    "\\begin{equation}\n",
    "    T^{1}_{1} = 0 + 0.835 \\left( \\frac{0.1}{2^{2}} \\right) [100 - 2 (0) + 0] = 2.0875\n",
    "\\end{equation}\n",
    "\n",
    "**Nodo 2**\n",
    "\n",
    "\\begin{align}\n",
    "    T^{1}_{i} &= T^{0}_{i} + k \\frac{\\Delta t}{\\Delta x^{2}} (T^{0}_{i-1} - 2 T^{0}_{i} + T^{0}_{i+1}) \\\\\n",
    "    T^{1}_{2} &= T^{0}_{2} + k \\frac{\\Delta t}{\\Delta x^{2}} (T^{0}_{2-1} - 2 T^{0}_{2} + T^{0}_{2+1}) \\\\\n",
    "    T^{1}_{2} &= T^{0}_{2} + k \\frac{\\Delta t}{\\Delta x^{2}} (T^{0}_{1} - 2 T^{0}_{2} + T^{0}_{3})\n",
    "\\end{align}"
   ]
  },
  {
   "cell_type": "markdown",
   "metadata": {},
   "source": [
    "<img align=\"left\" src=\"imagenes/006_DF02_2.svg\">"
   ]
  },
  {
   "cell_type": "markdown",
   "metadata": {},
   "source": [
    "\\begin{equation}\n",
    "    T^{1}_{2} = 0 + 0.835 \\left( \\frac{0.1}{2^{2}} \\right) [0 - 2 (0) + 0] = 0\n",
    "\\end{equation}\n",
    "\n",
    "**Nodo 3**\n",
    "\n",
    "\\begin{align}\n",
    "    T^{1}_{i} &= T^{0}_{i} + k \\frac{\\Delta t}{\\Delta x^{2}} (T^{0}_{i-1} - 2 T^{0}_{i} + T^{0}_{i+1}) \\\\\n",
    "    T^{1}_{3} &= T^{0}_{3} + k \\frac{\\Delta t}{\\Delta x^{2}} (T^{0}_{3-1} - 2 T^{0}_{3} + T^{0}_{3+1}) \\\\\n",
    "    T^{1}_{3} &= T^{0}_{3} + k \\frac{\\Delta t}{\\Delta x^{2}} (T^{0}_{2} - 2 T^{0}_{3} + T^{0}_{4})\n",
    "\\end{align}"
   ]
  },
  {
   "cell_type": "markdown",
   "metadata": {},
   "source": [
    "<img align=\"left\" src=\"imagenes/006_DF02_3.svg\">"
   ]
  },
  {
   "cell_type": "markdown",
   "metadata": {},
   "source": [
    "\\begin{equation}\n",
    "    T^{1}_{3} = 0 + 0.835 \\left( \\frac{0.1}{2^{2}} \\right) [0 - 2 (0) + 0] = 0\n",
    "\\end{equation}\n",
    "\n",
    "**Nodo 4**\n",
    "\n",
    "\\begin{align}\n",
    "    T^{1}_{i} &= T^{0}_{i} + k \\frac{\\Delta t}{\\Delta x^{2}} (T^{0}_{i-1} - 2 T^{0}_{i} + T^{0}_{i+1}) \\\\\n",
    "    T^{1}_{4} &= T^{0}_{4} + k \\frac{\\Delta t}{\\Delta x^{2}} (T^{0}_{4-1} - 2 T^{0}_{4} + T^{0}_{4+1}) \\\\\n",
    "    T^{1}_{4} &= T^{0}_{4} + k \\frac{\\Delta t}{\\Delta x^{2}} (T^{0}_{3} - 2 T^{0}_{4} + T^{0}_{5})\n",
    "\\end{align}"
   ]
  },
  {
   "cell_type": "markdown",
   "metadata": {},
   "source": [
    "<img align=\"left\" src=\"imagenes/006_DF02_4.svg\">"
   ]
  },
  {
   "cell_type": "markdown",
   "metadata": {},
   "source": [
    "\\begin{equation}\n",
    "    T^{1}_{4} = 0 + 0.835 \\left( \\frac{0.1}{2^{2}} \\right) [0 - 2 (0) + 50] = 1.0438\n",
    "\\end{equation}\n",
    "\n",
    "Para $l = 1$\n",
    "\n",
    "\\begin{align}\n",
    "    T^{l+1}_{i} &= T^{l}_{i} + k \\frac{\\Delta t}{\\Delta x^{2}} (T^{l}_{i-1} - 2 T^{l}_{i} + T^{l}_{i+1}) \\\\\n",
    "    T^{1+1}_{i} &= T^{1}_{i} + k \\frac{\\Delta t}{\\Delta x^{2}} (T^{1}_{i-1} - 2 T^{1}_{i} + T^{1}_{i+1}) \\\\\n",
    "    T^{2}_{i} &= T^{1}_{i} + k \\frac{\\Delta t}{\\Delta x^{2}} (T^{1}_{i-1} - 2 T^{1}_{i} + T^{1}_{i+1})\n",
    "\\end{align}\n",
    "\n",
    "**Nodo 1**\n",
    "\n",
    "\\begin{align}\n",
    "    T^{2}_{i} &= T^{1}_{i} + k \\frac{\\Delta t}{\\Delta x^{2}} (T^{1}_{i-1} - 2 T^{1}_{i} + T^{1}_{i+1}) \\\\\n",
    "    T^{2}_{1} &= T^{1}_{1} + k \\frac{\\Delta t}{\\Delta x^{2}} (T^{1}_{1-1} - 2 T^{1}_{1} + T^{1}_{1+1}) \\\\\n",
    "    T^{2}_{i} &= T^{1}_{1} + k \\frac{\\Delta t}{\\Delta x^{2}} (T^{1}_{0} - 2 T^{1}_{1} + T^{1}_{2})\n",
    "\\end{align}"
   ]
  },
  {
   "cell_type": "markdown",
   "metadata": {},
   "source": [
    "<img align=\"left\" src=\"imagenes/006_DF02_5.svg\">"
   ]
  },
  {
   "cell_type": "markdown",
   "metadata": {},
   "source": [
    "\\begin{equation}\n",
    "    T^{2}_{1} = 2.0875 + 0.835 \\left( \\frac{0.1}{2^{2}} \\right) [100 - 2 (2.0875) + 0] = 4.0878\n",
    "\\end{equation}\n",
    "\n",
    "**Nodo 2**\n",
    "\n",
    "\\begin{align}\n",
    "    T^{2}_{i} &= T^{1}_{i} + k \\frac{\\Delta t}{\\Delta x^{2}} (T^{1}_{i-1} - 2 T^{1}_{i} + T^{1}_{i+1}) \\\\\n",
    "    T^{2}_{2} &= T^{1}_{2} + k \\frac{\\Delta t}{\\Delta x^{2}} (T^{1}_{2-1} - 2 T^{1}_{2} + T^{1}_{2+1}) \\\\\n",
    "    T^{2}_{2} &= T^{1}_{2} + k \\frac{\\Delta t}{\\Delta x^{2}} (T^{1}_{1} - 2 T^{1}_{2} + T^{1}_{3})\n",
    "\\end{align}"
   ]
  },
  {
   "cell_type": "markdown",
   "metadata": {},
   "source": [
    "<img align=\"left\" src=\"imagenes/006_DF02_6.svg\">"
   ]
  },
  {
   "cell_type": "markdown",
   "metadata": {},
   "source": [
    "\\begin{equation}\n",
    "    T^{2}_{2} = 0 + 0.835 \\left( \\frac{0.1}{2^{2}} \\right) [2.0875 - 2 (0) + 0] = 0.0436\n",
    "\\end{equation}\n",
    "\n",
    "**Nodo 3**\n",
    "\n",
    "\\begin{align}\n",
    "    T^{2}_{i} &= T^{1}_{i} + k \\frac{\\Delta t}{\\Delta x^{2}} (T^{1}_{i-1} - 2 T^{1}_{i} + T^{1}_{i+1}) \\\\\n",
    "    T^{2}_{3} &= T^{1}_{3} + k \\frac{\\Delta t}{\\Delta x^{2}} (T^{1}_{3-1} - 2 T^{1}_{3} + T^{1}_{3+1}) \\\\\n",
    "    T^{2}_{3} &= T^{1}_{3} + k \\frac{\\Delta t}{\\Delta x^{2}} (T^{1}_{2} - 2 T^{1}_{3} + T^{1}_{4})\n",
    "\\end{align}"
   ]
  },
  {
   "cell_type": "markdown",
   "metadata": {},
   "source": [
    "<img align=\"left\" src=\"imagenes/006_DF02_7.svg\">"
   ]
  },
  {
   "cell_type": "markdown",
   "metadata": {},
   "source": [
    "\\begin{equation}\n",
    "    T^{2}_{3} = 0 + 0.835 \\left( \\frac{0.1}{2^{2}} \\right) [0 - 2 (0) + 1.0438] = 0.0218\n",
    "\\end{equation}\n",
    "\n",
    "**Nodo 4**\n",
    "\n",
    "\\begin{align}\n",
    "    T^{2}_{i} &= T^{1}_{i} + k \\frac{\\Delta t}{\\Delta x^{2}} (T^{1}_{i-1} - 2 T^{1}_{i} + T^{1}_{i+1}) \\\\\n",
    "    T^{2}_{4} &= T^{1}_{4} + k \\frac{\\Delta t}{\\Delta x^{2}} (T^{1}_{4-1} - 2 T^{1}_{4} + T^{1}_{4+1}) \\\\\n",
    "    T^{2}_{4} &= T^{1}_{4} + k \\frac{\\Delta t}{\\Delta x^{2}} (T^{1}_{3} - 2 T^{1}_{4} + T^{1}_{5})\n",
    "\\end{align}"
   ]
  },
  {
   "cell_type": "markdown",
   "metadata": {},
   "source": [
    "<img align=\"left\" src=\"imagenes/006_DF02_8.svg\">"
   ]
  },
  {
   "cell_type": "markdown",
   "metadata": {},
   "source": [
    "\\begin{equation}\n",
    "    T^{2}_{4} = 1.0438 + 0.835 \\left( \\frac{0.1}{2^{2}} \\right) [0 - 2 (1.0438) + 50] = 2.0440\n",
    "\\end{equation}"
   ]
  },
  {
   "cell_type": "code",
   "execution_count": 1,
   "metadata": {
    "collapsed": false
   },
   "outputs": [],
   "source": [
    "filas = 3\n",
    "columnas = 6\n",
    "\n",
    "A = zeros(filas, columnas)\n",
    "\n",
    "for i=1:filas\n",
    "    A[i,1] = 100\n",
    "    A[i,columnas] = 50\n",
    "end\n",
    "\n",
    "k = 0.835\n",
    "Δx = 2.0\n",
    "Δt = 0.1\n",
    "\n",
    "for i=2:filas\n",
    "    for j=2:columnas - 1\n",
    "        A[i,j] = A[i-1,j] + (k * (Δt/Δx^2) * (A[i-1,j-1] - (2*A[i-1,j]) + A[i-1,j+1]))\n",
    "    end\n",
    "end"
   ]
  },
  {
   "cell_type": "code",
   "execution_count": 2,
   "metadata": {
    "collapsed": false
   },
   "outputs": [
    {
     "data": {
      "text/plain": [
       "3x6 Array{Float64,2}:\n",
       " 100.0  0.0      0.0        0.0        0.0      50.0\n",
       " 100.0  2.0875   0.0        0.0        1.04375  50.0\n",
       " 100.0  4.08785  0.0435766  0.0217883  2.04392  50.0"
      ]
     },
     "execution_count": 2,
     "metadata": {},
     "output_type": "execute_result"
    }
   ],
   "source": [
    "A"
   ]
  }
 ],
 "metadata": {
  "kernelspec": {
   "display_name": "Julia 0.3.6",
   "language": "julia",
   "name": "julia 0.3"
  },
  "language_info": {
   "name": "julia",
   "version": "0.3.6"
  }
 },
 "nbformat": 4,
 "nbformat_minor": 0
}
