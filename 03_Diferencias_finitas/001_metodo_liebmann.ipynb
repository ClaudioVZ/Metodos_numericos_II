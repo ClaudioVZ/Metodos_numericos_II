{
 "cells": [
  {
   "cell_type": "markdown",
   "metadata": {},
   "source": [
    "# Método de diferencias finitas\n",
    "\n",
    "### Ecuación de Laplace\n",
    "\n",
    "\\begin{equation}\n",
    "    \\frac{\\partial^{2} T}{\\partial x^{2}} + \\frac{\\partial^{2} T}{\\partial y^{2}} = 0\n",
    "\\end{equation}\n",
    "\n",
    "Usando diferencias finitas centradas\n",
    "\n",
    "\\begin{align}\n",
    "    \\frac{\\partial^{2} T}{\\partial x^{2}} &= \\frac{T_{i+1, j} - 2 T_{i, j} + T_{i-1, j}}{\\Delta x^{2}} \\\\\n",
    "    \\frac{\\partial^{2} T}{\\partial y^{2}} &= \\frac{T_{i, j+1} - 2 T_{i, j} + T_{i, j-1}}{\\Delta y^{2}}\n",
    "\\end{align}\n",
    "\n",
    "Sustituyendo\n",
    "\n",
    "\\begin{equation}\n",
    "    \\frac{T_{i+1, j} - 2 T_{i, j} + T_{i-1, j}}{\\Delta x^{2}} + \\frac{T_{i, j+1} - 2 T_{i, j} + T_{i, j-1}}{\\Delta y^{2}} = 0\n",
    "\\end{equation}\n",
    "\n",
    "Para una malla cuadrada $\\Delta x^{2} = \\Delta y^{2}$\n",
    "\n",
    "\\begin{equation}\n",
    "    \\frac{T_{i+1, j} - 2 T_{i, j} + T_{i-1, j}}{\\Delta x^{2}} + \\frac{T_{i, j+1} - 2 T_{i, j} + T_{i, j-1}}{\\Delta x^{2}} = 0\n",
    "\\end{equation}\n",
    "\n",
    "reordenando\n",
    "\n",
    "\\begin{equation}\n",
    "    T_{i-1, j} - 4 T_{i, j} + T_{i+1, j} + T_{i, j-1} + T_{i, j+1} = 0\n",
    "\\end{equation}\n",
    "\n",
    "### Condiciones de frontera de Dirichlet\n",
    "\n",
    "\\begin{align}\n",
    "    \\frac{\\partial^{2} T}{\\partial x^{2}} + \\frac{\\partial^{2} T}{\\partial y^{2}} &= 0 \\\\\n",
    "    T(0,y) &= 75 \\\\\n",
    "    T(4,y) &= 50 \\\\\n",
    "    T(x,4) &= 100 \\\\\n",
    "    T(x,0) &= 0\n",
    "\\end{align}\n",
    "\n",
    "**Nodo (1,1)**\n",
    "\n",
    "\\begin{align}\n",
    "    T_{i-1, j} - 4 T_{i, j} + T_{i+1, j} + T_{i, j-1} + T_{i, j+1} &= 0 \\\\\n",
    "    T_{1-1, 1} - 4 T_{1, 1} + T_{1+1, 1} + T_{1, 1-1} + T_{1, 1+1} &= 0 \\\\\n",
    "    T_{0, 1} - 4 T_{1, 1} + T_{2, 1} + T_{1, 0} + T_{1, 2} &= 0\n",
    "\\end{align}"
   ]
  },
  {
   "cell_type": "markdown",
   "metadata": {},
   "source": [
    "<img align=\"left\" src=\"imagenes/005_DF01_1.svg\">"
   ]
  },
  {
   "cell_type": "markdown",
   "metadata": {},
   "source": [
    "\\begin{align}\n",
    "    75 - 4 T_{1, 1} + T_{2, 1} + 0 + T_{1, 2} &= 0 \\\\\n",
    "    - 4 T_{1, 1} + T_{1, 2} + T_{2, 1} &= -75\n",
    "\\end{align}\n",
    "\n",
    "**Nodo (2,1)**\n",
    "\n",
    "\\begin{align}\n",
    "    T_{i-1, j} - 4 T_{i, j} + T_{i+1, j} + T_{i, j-1} + T_{i, j+1} &= 0 \\\\\n",
    "    T_{2-1, 1} - 4 T_{2, 1} + T_{2+1, 1} + T_{2, 1-1} + T_{2, 1+1} &= 0 \\\\\n",
    "    T_{1, 1} - 4 T_{2, 1} + T_{3, 1} + T_{2, 0} + T_{2, 2} &= 0\n",
    "\\end{align}"
   ]
  },
  {
   "cell_type": "markdown",
   "metadata": {},
   "source": [
    "<img align=\"left\" src=\"imagenes/005_DF01_2.svg\">"
   ]
  },
  {
   "cell_type": "markdown",
   "metadata": {},
   "source": [
    "\\begin{align}\n",
    "    T_{1, 1} - 4 T_{2, 1} + T_{3, 1} + 0 + T_{2, 2} &= 0 \\\\\n",
    "    T_{1, 1} - 4 T_{2, 1} + T_{2, 2} + T_{3, 1} &= 0\n",
    "\\end{align}\n",
    "\n",
    "**Nodo (3,1)**\n",
    "\n",
    "\\begin{align}\n",
    "    T_{i-1, j} - 4 T_{i, j} + T_{i+1, j} + T_{i, j-1} + T_{i, j+1} &= 0 \\\\\n",
    "    T_{3-1, 1} - 4 T_{3, 1} + T_{3+1, 1} + T_{3, 1-1} + T_{3, 1+1} &= 0 \\\\\n",
    "    T_{2, 1} - 4 T_{3, 1} + T_{4, 1} + T_{3, 0} + T_{3, 2} &= 0\n",
    "\\end{align}"
   ]
  },
  {
   "cell_type": "markdown",
   "metadata": {},
   "source": [
    "<img align=\"left\" src=\"imagenes/005_DF01_3.svg\">"
   ]
  },
  {
   "cell_type": "markdown",
   "metadata": {},
   "source": [
    "\\begin{align}\n",
    "    T_{2, 1} - 4 T_{3, 1} + 50 + 0 + T_{3, 2} &= 0 \\\\\n",
    "    T_{2, 1} - 4 T_{3, 1} + T_{3, 2} &= -50\n",
    "\\end{align}\n",
    "\n",
    "**Nodo (1,2)**\n",
    "\n",
    "\\begin{align}\n",
    "    T_{i-1, j} - 4 T_{i, j} + T_{i+1, j} + T_{i, j-1} + T_{i, j+1} &= 0 \\\\\n",
    "    T_{1-1, 2} - 4 T_{1, 2} + T_{1+1, 2} + T_{1, 2-1} + T_{1, 2+1} &= 0 \\\\\n",
    "    T_{0, 2} - 4 T_{1, 2} + T_{2, 2} + T_{1, 1} + T_{1, 3} &= 0\n",
    "\\end{align}"
   ]
  },
  {
   "cell_type": "markdown",
   "metadata": {},
   "source": [
    "<img align=\"left\" src=\"imagenes/005_DF01_4.svg\">"
   ]
  },
  {
   "cell_type": "markdown",
   "metadata": {},
   "source": [
    "\\begin{align}\n",
    "    75 - 4 T_{1, 2} + T_{2, 2} + T_{1, 1} + T_{1, 3} &= 0 \\\\\n",
    "    T_{1, 1} - 4 T_{1, 2} + T_{1, 3} + T_{2, 2} &= -75\n",
    "\\end{align}\n",
    "\n",
    "**Nodo (2,2)**\n",
    "\n",
    "\\begin{align}\n",
    "    T_{i-1, j} - 4 T_{i, j} + T_{i+1, j} + T_{i, j-1} + T_{i, j+1} &= 0 \\\\\n",
    "    T_{2-1, 2} - 4 T_{2, 2} + T_{2+1, 2} + T_{2, 2-1} + T_{2, 2+1} &= 0 \\\\\n",
    "    T_{1, 2} - 4 T_{2, 2} + T_{3, 2} + T_{2, 1} + T_{2, 3} &= 0\n",
    "\\end{align}"
   ]
  },
  {
   "cell_type": "markdown",
   "metadata": {},
   "source": [
    "<img align=\"left\" src=\"imagenes/005_DF01_5.svg\">"
   ]
  },
  {
   "cell_type": "markdown",
   "metadata": {},
   "source": [
    "\\begin{align}\n",
    "    T_{1, 2} + T_{2, 1} - 4 T_{2, 2} + T_{2, 3} + T_{3, 2} &= 0\n",
    "\\end{align}\n",
    "\n",
    "**Nodo (3,2)**\n",
    "\n",
    "\\begin{align}\n",
    "    T_{i-1, j} - 4 T_{i, j} + T_{i+1, j} + T_{i, j-1} + T_{i, j+1} &= 0 \\\\\n",
    "    T_{3-1, 2} - 4 T_{3, 2} + T_{3+1, 2} + T_{3, 2-1} + T_{3, 2+1} &= 0 \\\\\n",
    "    T_{2, 2} - 4 T_{3, 2} + T_{4, 2} + T_{3, 1} + T_{3, 3} &= 0\n",
    "\\end{align}"
   ]
  },
  {
   "cell_type": "markdown",
   "metadata": {},
   "source": [
    "<img align=\"left\" src=\"imagenes/005_DF01_6.svg\">"
   ]
  },
  {
   "cell_type": "markdown",
   "metadata": {},
   "source": [
    "\\begin{align}\n",
    "    T_{2, 2} - 4 T_{3, 2} + 50 + T_{3, 1} + T_{3, 3} &= 0 \\\\\n",
    "    T_{2, 2} + T_{3, 1} - 4 T_{3, 2} + T_{3, 3} &= -50\n",
    "\\end{align}\n",
    "\n",
    "**Nodo (1,3)**\n",
    "\n",
    "\\begin{align}\n",
    "    T_{i-1, j} - 4 T_{i, j} + T_{i+1, j} + T_{i, j-1} + T_{i, j+1} &= 0 \\\\\n",
    "    T_{1-1, 3} - 4 T_{1, 3} + T_{1+1, 3} + T_{1, 3-1} + T_{1, 3+1} &= 0 \\\\\n",
    "    T_{0, 3} - 4 T_{1, 3} + T_{2, 3} + T_{1, 2} + T_{1, 4} &= 0\n",
    "\\end{align}"
   ]
  },
  {
   "cell_type": "markdown",
   "metadata": {},
   "source": [
    "<img align=\"left\" src=\"imagenes/005_DF01_7.svg\">"
   ]
  },
  {
   "cell_type": "markdown",
   "metadata": {},
   "source": [
    "\\begin{align}\n",
    "    75 - 4 T_{1, 3} + T_{2, 3} + T_{1, 2} + 100 &= 0 \\\\\n",
    "    T_{1, 2} - 4 T_{1, 3} + T_{2, 3} &= -175\n",
    "\\end{align}\n",
    "\n",
    "**Nodo (2,3)**\n",
    "\n",
    "\\begin{align}\n",
    "    T_{i-1, j} - 4 T_{i, j} + T_{i+1, j} + T_{i, j-1} + T_{i, j+1} &= 0 \\\\\n",
    "    T_{2-1, 3} - 4 T_{2, 3} + T_{2+1, 3} + T_{2, 3-1} + T_{2, 3+1} &= 0 \\\\\n",
    "    T_{1, 3} - 4 T_{2, 3} + T_{3, 3} + T_{2, 2} + T_{2, 4} &= 0\n",
    "\\end{align}"
   ]
  },
  {
   "cell_type": "markdown",
   "metadata": {},
   "source": [
    "<img align=\"left\" src=\"imagenes/005_DF01_8.svg\">"
   ]
  },
  {
   "cell_type": "markdown",
   "metadata": {},
   "source": [
    "\\begin{align}\n",
    "    T_{1, 3} - 4 T_{2, 3} + T_{3, 3} + T_{2, 2} + 100 &= 0 \\\\\n",
    "    T_{1, 3} + T_{2, 2} - 4 T_{2, 3} + T_{3, 3} &= -100\n",
    "\\end{align}\n",
    "\n",
    "**Nodo (3,3)**\n",
    "\n",
    "\\begin{align}\n",
    "    T_{i-1, j} - 4 T_{i, j} + T_{i+1, j} + T_{i, j-1} + T_{i, j+1} &= 0 \\\\\n",
    "    T_{3-1, 3} - 4 T_{3, 3} + T_{3+1, 3} + T_{3, 3-1} + T_{3, 3+1} &= 0 \\\\\n",
    "    T_{2, 3} - 4 T_{3, 3} + T_{4, 3} + T_{3, 2} + T_{3, 4} &= 0\n",
    "\\end{align}"
   ]
  },
  {
   "cell_type": "markdown",
   "metadata": {},
   "source": [
    "<img align=\"left\" src=\"imagenes/005_DF01_9.svg\">"
   ]
  },
  {
   "cell_type": "markdown",
   "metadata": {},
   "source": [
    "\\begin{align}\n",
    "    T_{2, 3} - 4 T_{3, 3} + 50 + T_{3, 2} + 100 &= 0 \\\\\n",
    "    T_{2, 3} + T_{3, 2} - 4 T_{3, 3} &= -150\n",
    "\\end{align}\n",
    "\n",
    "Sistema de ecuaciones del problema\n",
    "\n",
    "\\begin{align}\n",
    "    - 4 T_{1, 1} + T_{1, 2} + T_{2, 1} &= -75 \\\\\n",
    "    T_{1, 1} - 4 T_{2, 1} + T_{2, 2} + T_{3, 1} &= 0 \\\\\n",
    "    T_{2, 1} - 4 T_{3, 1} + T_{3, 2} &= -50 \\\\\n",
    "    T_{1, 1} - 4 T_{1, 2} + T_{1, 3} + T_{2, 2} &= -75 \\\\\n",
    "    T_{1, 2} + T_{2, 1} - 4 T_{2, 2} + T_{2, 3} + T_{3, 2} &= 0 \\\\\n",
    "    T_{2, 2} + T_{3, 1} - 4 T_{3, 2} + T_{3, 3} &= -50 \\\\\n",
    "    T_{1, 2} - 4 T_{1, 3} + T_{2, 3} &= -175 \\\\\n",
    "    T_{1, 3} + T_{2, 2} - 4 T_{2, 3} + T_{3, 3} &= -100 \\\\\n",
    "    T_{2, 3} + T_{3, 2} - 4 T_{3, 3} &= -150\n",
    "\\end{align}\n",
    "\n",
    "en forma matricial presenta una matriz dispersa\n",
    "\n",
    "\\begin{equation}\n",
    "    \\begin{bmatrix}\n",
    "    -4 & 1 & 0 & 1 & 0 & 0 & 0 & 0 & 0 \\\\\n",
    "    1 & 0 & 0 & -4 & 1 & 0 & 1 & 0 & 0 \\\\\n",
    "    0 & 0 & 0 & 1 & 0 & 0 & -4 & 1 & 0 \\\\\n",
    "    1 & -4 & 1 & 0 & 1 & 0 & 0 & 0 & 0 \\\\\n",
    "    0 & 1 & 0 & 1 & -4 & 1 & 0 & 1 & 0 \\\\\n",
    "    0 & 0 & 0 & 0 & 1 & 0 & 1 & -4 & 1 \\\\\n",
    "    0 & 1 & -4 & 0 & 0 & 1 & 0 & 0 & 0 \\\\\n",
    "    0 & 0 & 1 & 0 & 1 & -4 & 0 & 0 & 1 \\\\\n",
    "    0 & 0 & 0 & 0 & 0 & 1 & 0 & 1 & -4\n",
    "    \\end{bmatrix}\n",
    "    \\begin{bmatrix}\n",
    "    T_{1,1} \\\\\n",
    "    T_{1,2} \\\\\n",
    "    T_{1,3} \\\\\n",
    "    T_{2,1} \\\\\n",
    "    T_{2,2} \\\\\n",
    "    T_{2,3} \\\\\n",
    "    T_{3,1} \\\\\n",
    "    T_{3,2} \\\\\n",
    "    T_{3,3}\n",
    "    \\end{bmatrix} =\n",
    "    \\begin{bmatrix}\n",
    "    -75 \\\\\n",
    "    0 \\\\\n",
    "    -50 \\\\\n",
    "    -75 \\\\\n",
    "    0 \\\\\n",
    "    -50 \\\\\n",
    "    -175 \\\\\n",
    "    -100 \\\\\n",
    "    -150\n",
    "    \\end{bmatrix}\n",
    "\\end{equation}\n",
    "\n",
    "en forma reducida\n",
    "\n",
    "\\begin{equation}\n",
    "    Ax = B\n",
    "\\end{equation}"
   ]
  },
  {
   "cell_type": "code",
   "execution_count": 1,
   "metadata": {
    "collapsed": false
   },
   "outputs": [],
   "source": [
    "A = [[-4 1 0 1 0 0 0 0 0],\n",
    "    [ 1 0 0 -4 1 0 1 0 0],\n",
    "    [0 0 0 1 0 0 -4 1 0],\n",
    "    [1 -4 1 0 1 0 0 0 0],\n",
    "    [0 1 0 1 -4 1 0 1 0],\n",
    "    [0 0 0 0 1 0 1 -4 1],\n",
    "    [0 1 -4 0 0 1 0 0 0],\n",
    "    [0 0 1 0 1 -4 0 0 1],\n",
    "    [0 0 0 0 0 1 0 1 -4]];"
   ]
  },
  {
   "cell_type": "code",
   "execution_count": 2,
   "metadata": {
    "collapsed": false
   },
   "outputs": [],
   "source": [
    "B = [[-75],\n",
    "    [0],\n",
    "    [-50],\n",
    "    [-75],\n",
    "    [0],\n",
    "    [-50],\n",
    "    [-175],\n",
    "    [-100],\n",
    "    [-150]];"
   ]
  },
  {
   "cell_type": "code",
   "execution_count": 3,
   "metadata": {
    "collapsed": false
   },
   "outputs": [],
   "source": [
    "x = inv(A)*B;"
   ]
  },
  {
   "cell_type": "code",
   "execution_count": 4,
   "metadata": {
    "collapsed": false
   },
   "outputs": [
    {
     "name": "stdout",
     "output_type": "stream",
     "text": [
      "T[1,1] = 42.85714285714286\n",
      "T[1,2] = 63.16964285714287\n",
      "T[1,3] = 78.57142857142857\n",
      "T[2,1] = 33.25892857142858\n",
      "T[2,2] = 56.25000000000001\n",
      "T[2,3] = 76.11607142857143\n",
      "T[3,1] = 33.92857142857144\n",
      "T[3,2] = 52.45535714285715\n",
      "T[3,3] = 69.64285714285714\n"
     ]
    }
   ],
   "source": [
    "x = transpose(reshape(x,3,3))\n",
    "\n",
    "for i=1:3\n",
    "    for j=1:3\n",
    "        println(\"T[$i,$j] = $(x[i,j])\")\n",
    "    end\n",
    "end"
   ]
  },
  {
   "cell_type": "markdown",
   "metadata": {},
   "source": [
    "### Condiciones de frontera de Neumann\n",
    "\n",
    "\\begin{align}\n",
    "    \\frac{\\partial^{2} T}{\\partial x^{2}} + \\frac{\\partial^{2} T}{\\partial y^{2}} &= 0 \\\\\n",
    "    T(0,y) &= 75 \\\\\n",
    "    T(4,y) &= 50 \\\\\n",
    "    T(x,4) &= 100 \\\\\n",
    "    \\frac{\\partial}{\\partial y} T(x,0) &= 0\n",
    "\\end{align}\n",
    "\n",
    "**Nodo (1,0)**\n",
    "\n",
    "\\begin{align}\n",
    "    T_{i-1, j} - 4 T_{i, j} + T_{i+1, j} + T_{i, j-1} + T_{i, j+1} &= 0 \\\\\n",
    "    T_{1-1, 0} - 4 T_{1, 0} + T_{1+1, 0} + T_{1, 0-1} + T_{1, 0+1} &= 0 \\\\\n",
    "    T_{0, 0} - 4 T_{1, 0} + T_{2, 0} + T_{1, -1} + T_{1, 1} &= 0\n",
    "\\end{align}\n",
    "\n",
    "aproximando $T_{y}$ con una diferencia finita centrada\n",
    "\n",
    "\\begin{equation}\n",
    "    \\frac{\\partial T}{\\partial y} = \\frac{T_{i, j-1} - T_{i, j+1}}{2 \\Delta y} = \\frac{T_{1, 0-1} - T_{1, 0+1}}{2 \\Delta y} = \\frac{T_{1, -1} - T_{1, 1}}{2 \\Delta y}\n",
    "\\end{equation}\n",
    "\n",
    "despejando $T_{1, -1}$\n",
    "\n",
    "\\begin{equation}\n",
    "    T_{1, -1} = 2 \\Delta y \\frac{\\partial T}{\\partial y} + T_{1, 1}\n",
    "\\end{equation}\n",
    "\n",
    "reemplazando\n",
    "\n",
    "\\begin{align}\n",
    "    T_{0, 0} - 4 T_{1, 0} + T_{2, 0} + 2 \\Delta y \\frac{\\partial T}{\\partial y} + T_{1, 1} + T_{1, 1} &= 0 \\\\\n",
    "    T_{0, 0} - 4 T_{1, 0} + T_{2, 0} + 2 \\Delta y \\frac{\\partial T}{\\partial y} + 2 T_{1, 1} &= 0\n",
    "\\end{align}"
   ]
  },
  {
   "cell_type": "markdown",
   "metadata": {},
   "source": [
    "<img align=\"left\" src=\"imagenes/005_DF01_10.svg\">"
   ]
  },
  {
   "cell_type": "markdown",
   "metadata": {},
   "source": [
    "\\begin{align}\n",
    "    75 - 4 T_{1, 0} + T_{2, 0} + 2 (1) (0) + 2 T_{1, 1} &= 0 \\\\\n",
    "    - 4 T_{1, 0} + 2 T_{1, 1} + T_{2, 0} &= -75\n",
    "\\end{align}\n",
    "\n",
    "**Nodo (2,0)**\n",
    "\n",
    "\\begin{align}\n",
    "    T_{i-1, j} - 4 T_{i, j} + T_{i+1, j} + T_{i, j-1} + T_{i, j+1} &= 0 \\\\\n",
    "    T_{2-1, 0} - 4 T_{2, 0} + T_{2+1, 0} + T_{2, 0-1} + T_{2, 0+1} &= 0 \\\\\n",
    "    T_{1, 0} - 4 T_{2, 0} + T_{3, 0} + T_{2, -1} + T_{2, 1} &= 0\n",
    "\\end{align}\n",
    "\n",
    "aproximando $T_{y}$ con una diferencia finita centrada\n",
    "\n",
    "\\begin{equation}\n",
    "    \\frac{\\partial T}{\\partial y} = \\frac{T_{i, j-1} - T_{i, j+1}}{2 \\Delta y} = \\frac{T_{2, 0-1} - T_{2, 0+1}}{2 \\Delta y} = \\frac{T_{2, -1} - T_{2, 1}}{2 \\Delta y}\n",
    "\\end{equation}\n",
    "\n",
    "despejando $T_{2, -1}$\n",
    "\n",
    "\\begin{equation}\n",
    "    T_{2, -1} = 2 \\Delta y \\frac{\\partial T}{\\partial y} + T_{2, 1}\n",
    "\\end{equation}\n",
    "\n",
    "reemplazando\n",
    "\n",
    "\\begin{align}\n",
    "    T_{1, 0} - 4 T_{2, 0} + T_{3, 0} + 2 \\Delta y \\frac{\\partial T}{\\partial y} + T_{2, 1} + T_{2, 1} &= 0 \\\\\n",
    "    T_{1, 0} - 4 T_{2, 0} + T_{3, 0} + 2 \\Delta y \\frac{\\partial T}{\\partial y} + 2 T_{2, 1} &= 0\n",
    "\\end{align}"
   ]
  },
  {
   "cell_type": "markdown",
   "metadata": {},
   "source": [
    "<img align=\"left\" src=\"imagenes/005_DF01_11.svg\">"
   ]
  },
  {
   "cell_type": "markdown",
   "metadata": {},
   "source": [
    "\\begin{align}\n",
    "    T_{1, 0} - 4 T_{2, 0} + T_{3, 0} + 2 (1) (0) + 2 T_{2, 1} &= 0 \\\\\n",
    "    T_{1, 0} - 4 T_{2, 0} + 2 T_{2, 1} + T_{3, 0} &= 0\n",
    "\\end{align}\n",
    "\n",
    "**Nodo (3,0)**\n",
    "\n",
    "\\begin{align}\n",
    "    T_{i-1, j} - 4 T_{i, j} + T_{i+1, j} + T_{i, j-1} + T_{i, j+1} &= 0 \\\\\n",
    "    T_{3-1, 0} - 4 T_{3, 0} + T_{3+1, 0} + T_{3, 0-1} + T_{3, 0+1} &= 0 \\\\\n",
    "    T_{2, 0} - 4 T_{3, 0} + T_{4, 0} + T_{3, -1} + T_{3, 1} &= 0\n",
    "\\end{align}\n",
    "\n",
    "aproximando $T_{y}$ con una diferencia finita centrada\n",
    "\n",
    "\\begin{equation}\n",
    "    \\frac{\\partial T}{\\partial y} = \\frac{T_{i, j-1} - T_{i, j+1}}{2 \\Delta y} = \\frac{T_{3, 0-1} - T_{3, 0+1}}{2 \\Delta y} = \\frac{T_{3, -1} - T_{3, 1}}{2 \\Delta y}\n",
    "\\end{equation}\n",
    "\n",
    "despejando $T_{3, -1}$\n",
    "\n",
    "\\begin{equation}\n",
    "    T_{3, -1} = 2 \\Delta y \\frac{\\partial T}{\\partial y} + T_{3, 1}\n",
    "\\end{equation}\n",
    "\n",
    "reemplazando\n",
    "\n",
    "\\begin{align}\n",
    "    T_{2, 0} - 4 T_{3, 0} + T_{4, 0} + 2 \\Delta y \\frac{\\partial T}{\\partial y} + T_{3, 1} + T_{3, 1} &= 0 \\\\\n",
    "    T_{2, 0} - 4 T_{3, 0} + T_{4, 0} + 2 \\Delta y \\frac{\\partial T}{\\partial y} + 2 T_{3, 1} &= 0\n",
    "\\end{align}"
   ]
  },
  {
   "cell_type": "markdown",
   "metadata": {},
   "source": [
    "<img align=\"left\" src=\"imagenes/005_DF01_12.svg\">"
   ]
  },
  {
   "cell_type": "markdown",
   "metadata": {},
   "source": [
    "\\begin{align}\n",
    "    T_{2, 0} - 4 T_{3, 0} + 50 + 2 (1) (0) + 2 T_{3, 1} &= 0 \\\\\n",
    "    T_{2, 0} - 4 T_{3, 0} + 2 T_{3, 1} &= -50\n",
    "\\end{align}\n",
    "\n",
    "**Nodo (1,1)**\n",
    "\n",
    "\\begin{align}\n",
    "    T_{i-1, j} - 4 T_{i, j} + T_{i+1, j} + T_{i, j-1} + T_{i, j+1} &= 0 \\\\\n",
    "    T_{1-1, 1} - 4 T_{1, 1} + T_{1+1, 1} + T_{1, 1-1} + T_{1, 1+1} &= 0 \\\\\n",
    "    T_{0, 1} - 4 T_{1, 1} + T_{2, 1} + T_{1, 0} + T_{1, 2} &= 0\n",
    "\\end{align}"
   ]
  },
  {
   "cell_type": "markdown",
   "metadata": {},
   "source": [
    "<img align=\"left\" src=\"imagenes/005_DF01_13.svg\">"
   ]
  },
  {
   "cell_type": "markdown",
   "metadata": {},
   "source": [
    "\\begin{align}\n",
    "    75 - 4 T_{1, 1} + T_{2, 1} + T_{1, 0} + T_{1, 2} &= 0 \\\\\n",
    "    T_{1, 0} - 4 T_{1, 1} + T_{1, 2} + T_{2, 1} &= -75\n",
    "\\end{align}\n",
    "\n",
    "**Nodo (2,1)**\n",
    "\n",
    "\\begin{align}\n",
    "    T_{i-1, j} - 4 T_{i, j} + T_{i+1, j} + T_{i, j-1} + T_{i, j+1} &= 0 \\\\\n",
    "    T_{2-1, 1} - 4 T_{2, 1} + T_{2+1, 1} + T_{2, 1-1} + T_{2, 1+1} &= 0 \\\\\n",
    "    T_{1, 1} - 4 T_{2, 1} + T_{3, 1} + T_{2, 0} + T_{2, 2} &= 0\n",
    "\\end{align}"
   ]
  },
  {
   "cell_type": "markdown",
   "metadata": {},
   "source": [
    "<img align=\"left\" src=\"imagenes/005_DF01_14.svg\">"
   ]
  },
  {
   "cell_type": "markdown",
   "metadata": {},
   "source": [
    "\\begin{align}\n",
    "    T_{1, 1} + T_{2, 0} - 4 T_{2, 1} + T_{2, 2} + T_{3, 1} &= 0\n",
    "\\end{align}\n",
    "\n",
    "**Nodo (3,1)**\n",
    "\n",
    "\\begin{align}\n",
    "    T_{i-1, j} - 4 T_{i, j} + T_{i+1, j} + T_{i, j-1} + T_{i, j+1} &= 0 \\\\\n",
    "    T_{3-1, 1} - 4 T_{3, 1} + T_{3+1, 1} + T_{3, 1-1} + T_{3, 1+1} &= 0 \\\\\n",
    "    T_{2, 1} - 4 T_{3, 1} + T_{4, 1} + T_{3, 0} + T_{3, 2} &= 0\n",
    "\\end{align}"
   ]
  },
  {
   "cell_type": "markdown",
   "metadata": {},
   "source": [
    "<img align=\"left\" src=\"imagenes/005_DF01_15.svg\">"
   ]
  },
  {
   "cell_type": "markdown",
   "metadata": {},
   "source": [
    "\\begin{align}\n",
    "    T_{2, 1} - 4 T_{3, 1} + 50 + T_{3, 0} + T_{3, 2} &= 0 \\\\\n",
    "    T_{2, 1} + + T_{3, 0} - 4 T_{3, 1} + T_{3, 2} &= -50\n",
    "\\end{align}\n",
    "\n",
    "**Nodo (1,2)**\n",
    "\n",
    "\\begin{align}\n",
    "    T_{i-1, j} - 4 T_{i, j} + T_{i+1, j} + T_{i, j-1} + T_{i, j+1} &= 0 \\\\\n",
    "    T_{1-1, 2} - 4 T_{1, 2} + T_{1+1, 2} + T_{1, 2-1} + T_{1, 2+1} &= 0 \\\\\n",
    "    T_{0, 2} - 4 T_{1, 2} + T_{2, 2} + T_{1, 1} + T_{1, 3} &= 0\n",
    "\\end{align}"
   ]
  },
  {
   "cell_type": "markdown",
   "metadata": {},
   "source": [
    "<img align=\"left\" src=\"imagenes/005_DF01_16.svg\">"
   ]
  },
  {
   "cell_type": "markdown",
   "metadata": {},
   "source": [
    "\\begin{align}\n",
    "    75 - 4 T_{1, 2} + T_{2, 2} + T_{1, 1} + T_{1, 3} &= 0 \\\\\n",
    "    T_{1, 1} - 4 T_{1, 2} + T_{1, 3} + T_{2, 2} &= -75\n",
    "\\end{align}\n",
    "\n",
    "**Nodo (2,2)**\n",
    "\n",
    "\\begin{align}\n",
    "    T_{i-1, j} - 4 T_{i, j} + T_{i+1, j} + T_{i, j-1} + T_{i, j+1} &= 0 \\\\\n",
    "    T_{2-1, 2} - 4 T_{2, 2} + T_{2+1, 2} + T_{2, 2-1} + T_{2, 2+1} &= 0 \\\\\n",
    "    T_{1, 2} - 4 T_{2, 2} + T_{3, 2} + T_{2, 1} + T_{2, 3} &= 0\n",
    "\\end{align}"
   ]
  },
  {
   "cell_type": "markdown",
   "metadata": {},
   "source": [
    "<img align=\"left\" src=\"imagenes/005_DF01_17.svg\">"
   ]
  },
  {
   "cell_type": "markdown",
   "metadata": {},
   "source": [
    "\\begin{align}\n",
    "    T_{1, 2} + T_{2, 1} - 4 T_{2, 2} + T_{2, 3} + T_{3, 2} &= 0\n",
    "\\end{align}\n",
    "\n",
    "**Nodo (3,2)**\n",
    "\n",
    "\\begin{align}\n",
    "    T_{i-1, j} - 4 T_{i, j} + T_{i+1, j} + T_{i, j-1} + T_{i, j+1} &= 0 \\\\\n",
    "    T_{3-1, 2} - 4 T_{3, 2} + T_{3+1, 2} + T_{3, 2-1} + T_{3, 2+1} &= 0 \\\\\n",
    "    T_{2, 2} - 4 T_{3, 2} + T_{4, 2} + T_{3, 1} + T_{3, 3} &= 0\n",
    "\\end{align}"
   ]
  },
  {
   "cell_type": "markdown",
   "metadata": {},
   "source": [
    "<img align=\"left\" src=\"imagenes/005_DF01_18.svg\">"
   ]
  },
  {
   "cell_type": "markdown",
   "metadata": {},
   "source": [
    "\\begin{align}\n",
    "    T_{2, 2} - 4 T_{3, 2} + 50 + T_{3, 1} + T_{3, 3} &= 0 \\\\\n",
    "    T_{2, 2} + T_{3, 1} - 4 T_{3, 2} + T_{3, 3} &= -50\n",
    "\\end{align}\n",
    "\n",
    "**Nodo (1,3)**\n",
    "\n",
    "\\begin{align}\n",
    "    T_{i-1, j} - 4 T_{i, j} + T_{i+1, j} + T_{i, j-1} + T_{i, j+1} &= 0 \\\\\n",
    "    T_{1-1, 3} - 4 T_{1, 3} + T_{1+1, 3} + T_{1, 3-1} + T_{1, 3+1} &= 0 \\\\\n",
    "    T_{0, 3} - 4 T_{1, 3} + T_{2, 3} + T_{1, 2} + T_{1, 4} &= 0\n",
    "\\end{align}"
   ]
  },
  {
   "cell_type": "markdown",
   "metadata": {},
   "source": [
    "<img align=\"left\" src=\"imagenes/005_DF01_19.svg\">"
   ]
  },
  {
   "cell_type": "markdown",
   "metadata": {},
   "source": [
    "\\begin{align}\n",
    "    75 - 4 T_{1, 3} + T_{2, 3} + T_{1, 2} + 100 &= 0 \\\\\n",
    "    T_{1, 2} - 4 T_{1, 3} + T_{2, 3} &= -175\n",
    "\\end{align}\n",
    "\n",
    "**Nodo (2,3)**\n",
    "\n",
    "\\begin{align}\n",
    "    T_{i-1, j} - 4 T_{i, j} + T_{i+1, j} + T_{i, j-1} + T_{i, j+1} &= 0 \\\\\n",
    "    T_{2-1, 3} - 4 T_{2, 3} + T_{2+1, 3} + T_{2, 3-1} + T_{2, 3+1} &= 0 \\\\\n",
    "    T_{1, 3} - 4 T_{2, 3} + T_{3, 3} + T_{2, 2} + T_{2, 4} &= 0\n",
    "\\end{align}"
   ]
  },
  {
   "cell_type": "markdown",
   "metadata": {},
   "source": [
    "<img align=\"left\" src=\"imagenes/005_DF01_20.svg\">"
   ]
  },
  {
   "cell_type": "markdown",
   "metadata": {},
   "source": [
    "\\begin{align}\n",
    "    T_{1, 3} - 4 T_{2, 3} + T_{3, 3} + T_{2, 2} + 100 &= 0 \\\\\n",
    "    T_{1, 3} + T_{2, 2} - 4 T_{2, 3} + T_{3, 3} &= -100\n",
    "\\end{align}\n",
    "\n",
    "**Nodo (3,3)**\n",
    "\n",
    "\\begin{align}\n",
    "    T_{i-1, j} - 4 T_{i, j} + T_{i+1, j} + T_{i, j-1} + T_{i, j+1} &= 0 \\\\\n",
    "    T_{3-1, 3} - 4 T_{3, 3} + T_{3+1, 3} + T_{3, 3-1} + T_{3, 3+1} &= 0 \\\\\n",
    "    T_{2, 3} - 4 T_{3, 3} + T_{4, 3} + T_{3, 2} + T_{3, 4} &= 0\n",
    "\\end{align}"
   ]
  },
  {
   "cell_type": "markdown",
   "metadata": {},
   "source": [
    "<img align=\"left\" src=\"imagenes/005_DF01_21.svg\">"
   ]
  },
  {
   "cell_type": "markdown",
   "metadata": {},
   "source": [
    "\\begin{align}\n",
    "    T_{2, 3} - 4 T_{3, 3} + 50 + T_{3, 2} + 100 &= 0 \\\\\n",
    "    T_{2, 3} + T_{3, 2} - 4 T_{3, 3} &= -150\n",
    "\\end{align}\n",
    "\n",
    "Sistema de ecuaciones del problema\n",
    "\n",
    "\\begin{align}\n",
    "    - 4 T_{1, 0} + 2 T_{1, 1} + T_{2, 0} &= -75 \\\\\n",
    "    T_{1, 0} - 4 T_{2, 0} + 2 T_{2, 1} + T_{3, 0} &= 0 \\\\\n",
    "    T_{2, 0} - 4 T_{3, 0} + 2 T_{3, 1} &= -50 \\\\\n",
    "    T_{1, 0} - 4 T_{1, 1} + T_{1, 2} + T_{2, 1} &= -75 \\\\\n",
    "    T_{1, 1} + T_{2, 0} - 4 T_{2, 1} + T_{2, 2} + T_{3, 1} &= 0 \\\\\n",
    "    T_{2, 1} + + T_{3, 0} - 4 T_{3, 1} + T_{3, 2} &= -50 \\\\\n",
    "    T_{1, 1} - 4 T_{1, 2} + T_{1, 3} + T_{2, 2} &= -75 \\\\\n",
    "    T_{1, 2} + T_{2, 1} - 4 T_{2, 2} + T_{2, 3} + T_{3, 2} &= 0 \\\\\n",
    "    T_{2, 2} + T_{3, 1} - 4 T_{3, 2} + T_{3, 3} &= -50 \\\\\n",
    "    T_{1, 2} - 4 T_{1, 3} + T_{2, 3} &= -175 \\\\\n",
    "    T_{1, 3} + T_{2, 2} - 4 T_{2, 3} + T_{3, 3} &= -100 \\\\\n",
    "    T_{2, 3} + T_{3, 2} - 4 T_{3, 3} &= -150\n",
    "\\end{align}\n",
    "\n",
    "en forma matricial\n",
    "\n",
    "\\begin{equation}\n",
    "    \\begin{bmatrix}\n",
    "    -4 & 2 & 0 & 0 & 1 & 0 & 0 & 0 & 0 & 0 & 0 & 0 \\\\\n",
    "    1 & 0 & 0 & 0 & -4 & 2 & 0 & 0 & 1 & 0 & 0 & 0 \\\\\n",
    "    0 & 0 & 0 & 0 & 1 & 0 & 0 & 0 & -4 & 2 & 0 & 0 \\\\\n",
    "    1 & -4 & 1 & 0 & 0 & 1 & 0 & 0 & 0 & 0 & 0 & 0 \\\\\n",
    "    0 & 1 & 0 & 0 & 1 & -4 & 1 & 0 & 0 & 1 & 0 & 0 \\\\\n",
    "    0 & 0 & 0 & 0 & 0 & 1 & 0 & 0 & 1 & -4 & 1 & 0 \\\\\n",
    "    0 & 1 & -4 & 1 & 0 & 0 & 1 & 0 & 0 & 0 & 0 & 0 \\\\\n",
    "    0 & 0 & 1 & 0 & 0 & 1 & -4 & 1 & 0 & 0 & 1 & 0 \\\\\n",
    "    0 & 0 & 0 & 0 & 0 & 0 & 1 & 0 & 0 & 1 & -4 & 1 \\\\\n",
    "    0 & 0 & 1 & -4 & 0 & 0 & 0 & 1 & 0 & 0 & 0 & 0 \\\\\n",
    "    0 & 0 & 0 & 1 & 0 & 0 & 1 & -4 & 0 & 0 & 0 & 1 \\\\\n",
    "    0 & 0 & 0 & 0 & 0 & 0 & 0 & 1 & 0 & 0 & 1 & -4\n",
    "    \\end{bmatrix}\n",
    "    \\begin{bmatrix}\n",
    "    T_{1,0} \\\\\n",
    "    T_{1,1} \\\\\n",
    "    T_{1,2} \\\\\n",
    "    T_{1,3} \\\\\n",
    "    T_{2,0} \\\\\n",
    "    T_{2,1} \\\\\n",
    "    T_{2,2} \\\\\n",
    "    T_{2,3} \\\\\n",
    "    T_{3,0} \\\\\n",
    "    T_{3,1} \\\\\n",
    "    T_{3,2} \\\\\n",
    "    T_{3,3}\n",
    "    \\end{bmatrix} =\n",
    "    \\begin{bmatrix}\n",
    "    -75 \\\\\n",
    "    0 \\\\\n",
    "    -50 \\\\\n",
    "    -75 \\\\\n",
    "    0 \\\\\n",
    "    -50 \\\\\n",
    "    -75 \\\\\n",
    "    0 \\\\\n",
    "    -50 \\\\\n",
    "    -175 \\\\\n",
    "    -100 \\\\\n",
    "    -150\n",
    "    \\end{bmatrix}\n",
    "\\end{equation}"
   ]
  },
  {
   "cell_type": "code",
   "execution_count": 5,
   "metadata": {
    "collapsed": false
   },
   "outputs": [],
   "source": [
    "C = [[-4 2 0 0 1 0 0 0 0 0 0 0],\n",
    "    [1 0 0 0 -4 2 0 0 1 0 0 0],\n",
    "    [0 0 0 0 1 0 0 0 -4 2 0 0],\n",
    "    [1 -4 1 0 0 1 0 0 0 0 0 0],\n",
    "    [0 1 0 0 1 -4 1 0 0 1 0 0],\n",
    "    [0 0 0 0 0 1 0 0 1 -4 1 0],\n",
    "    [0 1 -4 1 0 0 1 0 0 0 0 0],\n",
    "    [0 0 1 0 0 1 -4 1 0 0 1 0],\n",
    "    [0 0 0 0 0 0 1 0 0 1 -4 1],\n",
    "    [0 0 1 -4 0 0 0 1 0 0 0 0],\n",
    "    [0 0 0 1 0 0 1 -4 0 0 0 1],\n",
    "    [0 0 0 0 0 0 0 1 0 0 1 -4]];"
   ]
  },
  {
   "cell_type": "code",
   "execution_count": 6,
   "metadata": {
    "collapsed": false
   },
   "outputs": [],
   "source": [
    "D = [[-75],\n",
    "    [0],\n",
    "    [-50],\n",
    "    [-75],\n",
    "    [0],\n",
    "    [-50],\n",
    "    [-75],\n",
    "    [0],\n",
    "    [-50],\n",
    "    [-175],\n",
    "    [-100],\n",
    "    [-150]];"
   ]
  },
  {
   "cell_type": "code",
   "execution_count": 7,
   "metadata": {
    "collapsed": false
   },
   "outputs": [],
   "source": [
    "u = inv(C)*D;"
   ]
  },
  {
   "cell_type": "code",
   "execution_count": 8,
   "metadata": {
    "collapsed": false
   },
   "outputs": [
    {
     "name": "stdout",
     "output_type": "stream",
     "text": [
      "T[1,0] = 71.9073553216478\n",
      "T[1,1] = 72.8074388953829\n",
      "T[1,2] = 76.01510157957134\n",
      "T[1,3] = 83.41092594700703\n",
      "T[2,0] = 67.01454349582546\n",
      "T[2,1] = 68.3072986803124\n",
      "T[2,2] = 72.84204147589548\n",
      "T[2,3] = 82.62860220845677\n",
      "T[3,0] = 59.53622130102927\n",
      "T[3,1] = 60.565170854145784\n",
      "T[3,2] = 64.41716343524146\n",
      "T[3,3] = 74.26144141092456\n"
     ]
    }
   ],
   "source": [
    "u = transpose(reshape(u, 4,3))\n",
    "\n",
    "for i=1:3\n",
    "    for j=1:4\n",
    "        println(\"T[$i,$(j-1)] = $(u[i,j])\")\n",
    "    end\n",
    "end"
   ]
  }
 ],
 "metadata": {
  "kernelspec": {
   "display_name": "Julia 0.3.6",
   "language": "julia",
   "name": "julia 0.3"
  },
  "language_info": {
   "name": "julia",
   "version": "0.3.6"
  }
 },
 "nbformat": 4,
 "nbformat_minor": 0
}
