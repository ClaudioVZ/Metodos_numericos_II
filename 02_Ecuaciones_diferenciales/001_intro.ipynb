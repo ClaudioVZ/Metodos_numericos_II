{
 "cells": [
  {
   "cell_type": "markdown",
   "metadata": {},
   "source": [
    "# Modelos matemáticos"
   ]
  },
  {
   "cell_type": "markdown",
   "metadata": {},
   "source": [
    "Un modelo matemático general se define como\n",
    "\n",
    "\\begin{equation}\n",
    "    \\text{variable dependiente} = f(\\text{variables independientes}, \\text{parámetros}, \\text{funciones de fuerza})\n",
    "\\end{equation}\n",
    "\n",
    "donde la *variable dependiente* es una característica que refleja el comportamiento o estado de un sistema, las *variables independientes* son comunmente dimensiones (tiempo, espacio), los *parámetros* se refieren a las propiedades o componentes del sistema y las *funciones de fuerza* son influencias externas u otros modelos. "
   ]
  },
  {
   "cell_type": "markdown",
   "metadata": {},
   "source": [
    "### Solución analítica de modelos matemáticos"
   ]
  },
  {
   "cell_type": "markdown",
   "metadata": {},
   "source": [
    "La mayoria de los modelos matemáticos no pueden resolverse analíticamente, tomemos como ejemplo la segunda ley del movimiento\n",
    "\n",
    "\\begin{equation}\n",
    "    F = m a\n",
    "\\end{equation}\n",
    "\n",
    "puede reordenarse como\n",
    "\n",
    "\\begin{equation}\n",
    "    a = \\frac{F}{m}\n",
    "\\end{equation}\n",
    "\n",
    "donde $a$ es la *variable dependiente*, explícitamente no existe *variable independiente*, $m$ es un *parámetro* y $F$ es una *función de fuerza*."
   ]
  },
  {
   "cell_type": "markdown",
   "metadata": {},
   "source": [
    "Si planteamos el anterior modelo como una ecuación diferencial para un cuerpo en caída libre\n",
    "\n",
    "\\begin{equation}\n",
    "    \\frac{d v}{d t} = \\frac{F}{m}\n",
    "\\end{equation}\n",
    "\n",
    "y $F$ como la suma de dos fuerzas opuestas\n",
    "\n",
    "\\begin{equation}\n",
    "    F = F_{u} + F_{d}\n",
    "\\end{equation}\n",
    "\n",
    "si a la fuerza hacia abajo se le asigna el signo positivo\n",
    "\n",
    "\\begin{equation}\n",
    "    F_{d} = m g\n",
    "\\end{equation}\n",
    "\n",
    "entonces la fuerza debido a la resistencia del aire es\n",
    "\n",
    "\\begin{equation}\n",
    "    F_{u} = -c v\n",
    "\\end{equation}\n",
    "\n",
    "reemplazando todos los términos conocidos tenemos\n",
    "\n",
    "\\begin{equation}\n",
    "    \\frac{d v}{d t} = g - \\frac{c v}{m}\n",
    "\\end{equation}\n",
    "\n",
    "resolviendo para las condiciones $v = 0$ y $t = 0$\n",
    "\n",
    "\\begin{equation}\n",
    "    v(t) = \\frac{g m}{c} ( 1 - e^{-t \\frac{c}{m}})\n",
    "\\end{equation}\n",
    "\n",
    "donde $v(t)$ es la *variable dependiente*, $t$ es la *variable independiente*, $c$ y $m$ son *parámetros* y $g$ es una función de fuerza."
   ]
  },
  {
   "cell_type": "markdown",
   "metadata": {},
   "source": [
    "Para un cuerpo con masa $68.1 \\ kg$. y coeficente de resistencia del aire $12.5 \\ \\frac{kg}{s}$ tenemos:"
   ]
  },
  {
   "cell_type": "code",
   "execution_count": 1,
   "metadata": {
    "collapsed": false
   },
   "outputs": [
    {
     "name": "stdout",
     "output_type": "stream",
     "text": [
      "t\tv\n",
      "0\t0.0\n",
      "1\t8.9623181081134\n",
      "2\t16.42172057920007\n",
      "3\t22.630235447165056\n",
      "4\t27.797627475567975\n",
      "5\t32.09848540102452\n",
      "6\t35.678120697377175\n",
      "7\t38.657477159967954\n",
      "8\t41.13721718829596\n",
      "9\t43.201122828759345\n",
      "10\t44.91892648723751\n",
      "11\t46.34866695173784\n",
      "12\t47.53865032716072\n",
      "13\t48.5290821355503\n",
      "14\t49.35342572499016\n",
      "15\t50.03953288319575\n",
      "16\t50.61058485542108\n",
      "17\t51.08587556049886\n",
      "18\t51.48146346724055\n",
      "19\t51.81071415589995\n",
      "20\t52.08475189602096\n"
     ]
    }
   ],
   "source": [
    "m = 68.1\n",
    "c = 12.5\n",
    "g = 9.81\n",
    "\n",
    "println(\"t\", '\\t', \"v\")\n",
    "\n",
    "for t = 0:20\n",
    "    v = ((g * m) / c) * (1 - exp(-t * (c/m)))\n",
    "    println(t, '\\t', v)\n",
    "end    "
   ]
  },
  {
   "cell_type": "markdown",
   "metadata": {},
   "source": [
    "### Solución numérica aproximada de modelos matemáticos"
   ]
  },
  {
   "cell_type": "markdown",
   "metadata": {},
   "source": [
    "El modelo anterior se resolverá mediante el *método de Euler*\n",
    "\n",
    "\\begin{equation}\n",
    "    \\frac{d v}{d t} \\approx \\frac{\\Delta v}{\\Delta t} = \\frac{v(t_{i+1}) - v(t_{i})}{t_{i+1} - t_{i}} \n",
    "\\end{equation}\n",
    "\n",
    "reemplazando en la ecuación diferencial\n",
    "\n",
    "\\begin{equation}\n",
    "    \\frac{v(t_{i+1}) - v(t_{i})}{t_{i+1} - t_{i}} = g - \\frac{c v(t_{i})}{m}\n",
    "\\end{equation}\n",
    "\n",
    "despejando $v(t_{i+1})$\n",
    "\n",
    "\\begin{equation}\n",
    "    v(t_{i+1}) = v(t_{i}) + (g - \\frac{c}{m} v(t_{i})) (t_{i+1} - t_{i})\n",
    "\\end{equation}"
   ]
  },
  {
   "cell_type": "code",
   "execution_count": 2,
   "metadata": {
    "collapsed": false
   },
   "outputs": [
    {
     "name": "stdout",
     "output_type": "stream",
     "text": [
      "t\tv\n",
      "0\t0\n",
      "1\t9.81\n",
      "2\t17.819339207048458\n",
      "3\t24.358535387839858\n",
      "4\t29.697438583904496\n",
      "5\t34.05636689082364\n",
      "6\t37.615198225107115\n",
      "7\t40.52079326455148\n",
      "8\t42.89305588119034\n",
      "9\t44.82988115997332\n",
      "10\t46.41119519081522\n",
      "11\t47.702253342280855\n",
      "12\t48.75633312526895\n",
      "13\t49.61693277187891\n",
      "14\t50.31956625721685\n",
      "15\t50.89322883849129\n",
      "16\t51.361593589135325\n",
      "17\t51.74398830478596\n",
      "18\t52.05619309465638\n",
      "19\t52.31109157214236\n",
      "20\t52.51920251705015\n"
     ]
    }
   ],
   "source": [
    "m = 68.1\n",
    "c = 12.5\n",
    "g = 9.81\n",
    "ti = 0\n",
    "vi = 0\n",
    "\n",
    "println(\"t\", '\\t', \"v\")\n",
    "println(ti, '\\t', vi)\n",
    "\n",
    "for i = 1:20\n",
    "    tf = ti + 1\n",
    "    vf = vi + ((g - ((c / m) * vi)) * (tf  - ti))\n",
    "    println(tf, '\\t', vf)\n",
    "    vi = vf\n",
    "    ti = tf   \n",
    "end"
   ]
  },
  {
   "cell_type": "markdown",
   "metadata": {},
   "source": [
    "Comparamos las soluciones:"
   ]
  },
  {
   "cell_type": "code",
   "execution_count": 3,
   "metadata": {
    "collapsed": false
   },
   "outputs": [
    {
     "data": {
      "image/png": "[encoded data removed]",
      "text/plain": [
       "Figure(PyObject <matplotlib.figure.Figure object at 0xb1d2f04c>)"
      ]
     },
     "metadata": {},
     "output_type": "display_data"
    },
    {
     "name": "stderr",
     "output_type": "stream",
     "text": [
      "INFO: Loading help data...\n"
     ]
    }
   ],
   "source": [
    "using PyCall\n",
    "using PyPlot\n",
    "\n",
    "m = 68.1\n",
    "c = 12.5\n",
    "g = 9.81\n",
    "\n",
    "ta = linspace(0,20,21)\n",
    "va = zeros(21)\n",
    "\n",
    "for i = 1:21\n",
    "    va[i] = ((g * m) / c) * (1 - exp(-ta[i] * (c/m)))\n",
    "end \n",
    "\n",
    "tn = zeros(21)\n",
    "vn = zeros(21)\n",
    "\n",
    "for i = 1:20\n",
    "    tn[i+1] = tn[i] + 1\n",
    "    vn[i+1] = vn[i] + ((g - ((c / m) * vn[i])) * (tn[i+1]  - tn[i]))\n",
    "end\n",
    "\n",
    "plot(ta, va, color=\"blue\", linewidth=2.0,label=\"Solución exacta\")\n",
    "plot(tn, vn, color=\"red\", linewidth=2.0,label=\"Solución numérica\")\n",
    "xlabel(L\"$t$\")\n",
    "ylabel(L\"$v$\")\n",
    "legend(loc=\"upper left\",fancybox=\"true\")\n",
    "title(\"Caída libre\")\n",
    "grid(\"on\")"
   ]
  },
  {
   "cell_type": "code",
   "execution_count": 4,
   "metadata": {
    "collapsed": false
   },
   "outputs": [],
   "source": []
  }
 ],
 "metadata": {
  "kernelspec": {
   "display_name": "Julia 0.3.6",
   "language": "julia",
   "name": "julia 0.3"
  },
  "language_info": {
   "name": "julia",
   "version": "0.3.6"
  }
 },
 "nbformat": 4,
 "nbformat_minor": 0
}
