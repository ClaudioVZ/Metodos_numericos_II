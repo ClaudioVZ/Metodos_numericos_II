{
 "cells": [
  {
   "cell_type": "markdown",
   "metadata": {},
   "source": [
    "# Aproximaciones y errores de redondeo\n",
    "\n",
    "## Definiciones de error\n",
    "\n",
    "La relación entre valor exacto o verdadero y el valor aproximado es la siguiente:\n",
    "\n",
    "\\begin{equation*}\n",
    "\\text{valor verdadero} = \\text{valor aproximado} + \\text{error}\n",
    "\\end{equation*}\n",
    "\n",
    "Despejando el error de la anterior ecuación:\n",
    "\n",
    "\\begin{equation*}\n",
    "E_{t} = \\text{valor verdadero} - \\text{valor aproximado}\n",
    "\\end{equation*}\n",
    "\n",
    "donde $E_{t}$ representa el valor exacto del error o error \"verdadero\"\n",
    "\n",
    "Una desventaja de la anterior fórmula es que no toma en cuenta el orden de la magnitud del valor aproximado, una manera de tomar en cuenta la magnitud de la aproximación consiste en normalizar el error verdadero respecto al valor verdadero:\n",
    "\n",
    "\\begin{equation}\n",
    "\\text{Error relativo verdadero} = \\frac{\\text{error verdadero}}{\\text{valor verdadero}} \n",
    "\\end{equation}\n",
    "\n",
    "si multiplicamos por 100%:\n",
    "\n",
    "\\begin{equation}\n",
    "\\epsilon_{t} = \\frac{\\text{error verdadero}}{\\text{valor verdadero}} \\cdot 100 \\%\n",
    "\\end{equation}\n",
    "\n",
    "donde $\\epsilon_{t}$ representa error relativo porcentual verdadero.\n",
    "\n",
    "En muchas aplicaciones reales no se conoce el valor verdadero, una alternativa es normalizar la mejor estimación posible del error verdadero: \n",
    "\n",
    "\\begin{equation*}\n",
    "\\epsilon_{a} = \\frac{\\text{error aproximado}}{\\text{valor aproximado}} \\cdot 100 \\%\n",
    "\\end{equation*}\n",
    "\n",
    "donde $\\epsilon_{a}$ representa error relativo porcentual aproximado, ciertos métodos numéricos usan un método iterativo para calcular en forma sucesiva aproximaciones para tal caso la anterior forma expresada en forma iterativa es:\n",
    "\n",
    "\\begin{equation*}\n",
    "\\epsilon_{a} = \\frac{\\text{error aproximado actual - error aproximado anterior}}{\\text{valor aproximado actual}} \\cdot 100 \\%\n",
    "\\end{equation*}\n",
    "\n",
    "A menudo cuando se realizan cálculos no importa mucho el signo de $\\epsilon_{a}$, sino que el valor absoluto relativo porcentual sea menor que una tolerancia porcentual prefijada.\n",
    "\n",
    "\\begin{equation*}\n",
    "    | \\epsilon_{a} | < \\epsilon_{s}\n",
    "\\end{equation*}\n",
    "\n",
    "Es conveniente relacionar estos errores con el número de $n$ cifras significativas:\n",
    "\n",
    "\\begin{equation*}\n",
    "    \\epsilon_{s} = \\frac{10^{2 - n}}{2} \\cdot 100\\%\n",
    "\\end{equation*}\n",
    "\n",
    "## Estimación del error con métodos iterativos\n",
    "\n",
    "Calcular $e^{x}$ usando series de Maclaurin para $x = 0.5$ usando tres cifras significativas:\n",
    "\n",
    "\\begin{equation*}\n",
    "    e^{x} = \\frac{x^{0}}{0!} + \\frac{x^{1}}{1!} + \\frac{x^{2}}{2!} + \\frac{x^{3}}{3!} + \\cdots \n",
    "\\end{equation*}\n",
    "\n",
    "El error prefijado $\\epsilon_{s}$ será:\n",
    "\n",
    "\\begin{equation*}\n",
    "    \\epsilon_{s} = \\frac{10^{2 - 3}}{2} \\cdot 100\\% = 0.05\\%\n",
    "\\end{equation*}\n",
    "\n",
    "### Primera aproximación\n",
    "\n",
    "\\begin{equation*}\n",
    "    e^{0.5} = 1 \n",
    "\\end{equation*}\n",
    "\n",
    "Calculando $\\epsilon_{t}$\n",
    "\n",
    "\\begin{equation*}\n",
    "    \\epsilon_{t} = \\frac{1.648721 - 1}{1.648721} \\cdot 100\\% = 39.35\\%\n",
    "\\end{equation*}\n",
    "\n",
    "Calculando $\\epsilon_{a}$\n",
    "\n",
    "\\begin{equation*}\n",
    "    \\epsilon_{a} = \\frac{1 - 0}{1} \\cdot 100\\% = 100\\%\n",
    "\\end{equation*}\n",
    "\n",
    "### Segunda aproximación\n",
    "\n",
    "\\begin{equation*}\n",
    "    e^{0.5} = 1 + 0.5 = 1.5\n",
    "\\end{equation*}\n",
    "\n",
    "Calculamos $\\epsilon_{t}$\n",
    "\n",
    "\\begin{equation*}\n",
    "    \\epsilon_{t} = \\frac{1.648721 - 1.5}{1.648721} \\cdot 100\\% = 9.02\\%\n",
    "\\end{equation*}\n",
    "\n",
    "Calculamos $\\epsilon_{a}$\n",
    "\n",
    "\\begin{equation*}\n",
    "    \\epsilon_{a} = \\frac{1.5 - 1}{1.5} \\cdot 100\\% = 33.33\\%\n",
    "\\end{equation*}\n",
    "\n",
    "### Implementación\n",
    "\n",
    "Mediante el siguiente programa se calculará los errores de aproximación:"
   ]
  },
  {
   "cell_type": "code",
   "execution_count": 1,
   "metadata": {
    "collapsed": false
   },
   "outputs": [
    {
     "name": "stdout",
     "output_type": "stream",
     "text": [
      "iteración \t exp(0.5) \t ϵₜ % \t         ϵₐ %\n",
      "1 \t         1.000000 \t 39.346934 \t 100.000000\n",
      "2 \t         1.500000 \t 9.020401 \t 33.333333\n",
      "3 \t         1.625000 \t 1.438768 \t 7.692308\n",
      "4 \t         1.645833 \t 0.175162 \t 1.265823\n",
      "5 \t         1.648438 \t 0.017212 \t 0.157978\n",
      "6 \t         1.648698 \t 0.001416 \t 0.015795\n"
     ]
    }
   ],
   "source": [
    "x = 0.5\n",
    "valor_actual = 0.0\n",
    "\n",
    "@printf(\"%s \\t %s \\t %s \\t %12s\\n\", \"iteración\", \"exp(0.5)\", \"ϵₜ %\", \"ϵₐ %\")\n",
    "\n",
    "for i = 0:5\n",
    "    valor_anterior = valor_actual\n",
    "    valor_actual = valor_actual + (x^i)/factorial(i)\n",
    "    et = ((exp(x) - valor_actual)/exp(x))*100\n",
    "    ea = ((valor_actual - valor_anterior) / valor_actual)*100\n",
    "    @printf(\"%d \\t %16f \\t %f \\t %f\\n\", i+1, valor_actual, et, ea)\n",
    "end"
   ]
  },
  {
   "cell_type": "markdown",
   "metadata": {},
   "source": [
    "## Seudocódigo para cálculos iterativos\n",
    "\n",
    "```` pascal\n",
    "función MetodoIterativo(valor, es, iteración_máxima)\n",
    "    iteración = 1\n",
    "    solución_actual = valor\n",
    "    ea = 100\n",
    "    hacer\n",
    "        iteración = iteración + 1\n",
    "        solución_anterior = solución_actual\n",
    "        solución_actual = ...\n",
    "        si solución_actual != 0\n",
    "            ea = abs((solución_actual - solución_anterior) / solución_actual) * 100\n",
    "        fin si\n",
    "    hasta (ea <= es) o (iteración >= iteración_máxima)\n",
    "    fin hacer\n",
    "    MetodoIterativo = solución_actual\n",
    "fin MetodoIterativo\n",
    "````\n",
    "\n",
    "## Implementación para calcular $e^{x}$"
   ]
  },
  {
   "cell_type": "code",
   "execution_count": 2,
   "metadata": {
    "collapsed": false
   },
   "outputs": [
    {
     "data": {
      "text/plain": [
       "exponencial (generic function with 1 method)"
      ]
     },
     "execution_count": 2,
     "metadata": {},
     "output_type": "execute_result"
    }
   ],
   "source": [
    "function exponencial(x, es, i_max)\n",
    "    i = 0\n",
    "    valor_actual = 0\n",
    "    while true\n",
    "        valor_anterior = valor_actual\n",
    "        valor_actual = valor_actual + (x^i)/factorial(i)\n",
    "        i = i + 1\n",
    "        if valor_actual != 0\n",
    "            ea = ((valor_actual - valor_anterior) / valor_actual)*100\n",
    "        end\n",
    "        if (ea <= es) || (i >= i_max)\n",
    "            println(\"iteración = \", i) # solo para comprobar\n",
    "            println(\"ea = \", ea) # solo para comprobar\n",
    "            println(\"et = \", ((exp(x) - valor_actual)/exp(x))*100) # solo para comprobar\n",
    "            break\n",
    "        end\n",
    "    end\n",
    "    return valor_actual\n",
    "end"
   ]
  },
  {
   "cell_type": "code",
   "execution_count": 3,
   "metadata": {
    "collapsed": false
   },
   "outputs": [
    {
     "name": "stdout",
     "output_type": "stream",
     "text": [
      "iteración = 12\n",
      "ea = 9.216155641522974e-7\n",
      "et = 8.316106763523326e-8\n"
     ]
    },
    {
     "data": {
      "text/plain": [
       "2.718281826198493"
      ]
     },
     "execution_count": 3,
     "metadata": {},
     "output_type": "execute_result"
    }
   ],
   "source": [
    "exponencial(1, 1e-6, 100)"
   ]
  },
  {
   "cell_type": "markdown",
   "metadata": {},
   "source": [
    "## Errores de redondeo\n",
    "\n",
    "### Representación de números en la computadora\n",
    "\n",
    "Los números se asemejan a una recta con dominio discreto y espaciados a $\\Delta x$\n",
    "\n",
    "gráfico\n",
    "\n",
    "El siguiente número que existe después de $0$ es"
   ]
  },
  {
   "cell_type": "code",
   "execution_count": 4,
   "metadata": {
    "collapsed": false
   },
   "outputs": [
    {
     "data": {
      "text/plain": [
       "5.0e-324"
      ]
     },
     "execution_count": 4,
     "metadata": {},
     "output_type": "execute_result"
    }
   ],
   "source": [
    "nextfloat(0.0)"
   ]
  },
  {
   "cell_type": "markdown",
   "metadata": {},
   "source": [
    "El siguiente número que existe después de $1$ es:"
   ]
  },
  {
   "cell_type": "code",
   "execution_count": 5,
   "metadata": {
    "collapsed": false
   },
   "outputs": [
    {
     "data": {
      "text/plain": [
       "1.0000000000000002"
      ]
     },
     "execution_count": 5,
     "metadata": {},
     "output_type": "execute_result"
    }
   ],
   "source": [
    "nextfloat(1.0)"
   ]
  },
  {
   "cell_type": "code",
   "execution_count": 6,
   "metadata": {
    "collapsed": false
   },
   "outputs": [
    {
     "name": "stdout",
     "output_type": "stream",
     "text": [
      "Δx = 2.220446049250313e-16\n"
     ]
    }
   ],
   "source": [
    "Δx = nextfloat(1.0) - 1.0\n",
    "println(\"Δx = \", Δx)"
   ]
  },
  {
   "cell_type": "markdown",
   "metadata": {},
   "source": [
    "### Épsilon de máquina\n",
    "\n",
    "El épsilon de máquina es la \"distancia\" entre dos números de punto flotante, se calcula como:\n",
    "\n",
    "\\begin{equation*}\n",
    "    \\epsilon = b^{1 - t}\n",
    "\\end{equation*}\n",
    "\n",
    "donde $b$ es el número base y $t$ es el número de cifras significativas en la mantisa, por ejemplo si $t = 16$:\n",
    "\n",
    "\\begin{equation*}\n",
    "    \\epsilon = 10^{1 - 16} = 0.000000000000001 \n",
    "\\end{equation*}\n",
    "\n",
    "Puede ser calculado mediante el siguiente seudocódigo:\n",
    "\n",
    "```` pascal\n",
    "epsilon = 1\n",
    "hacer\n",
    "    epsilon = epsilon / 2\n",
    "hasta epsilon + 1 <= 1\n",
    "fin hacer\n",
    "epsilon = 2 * epsilon \n",
    "````\n",
    "\n",
    "Programa para calcular el épsilon de máquina"
   ]
  },
  {
   "cell_type": "code",
   "execution_count": 7,
   "metadata": {
    "collapsed": false
   },
   "outputs": [
    {
     "data": {
      "text/plain": [
       "2.220446049250313e-16"
      ]
     },
     "execution_count": 7,
     "metadata": {},
     "output_type": "execute_result"
    }
   ],
   "source": [
    "ϵ = 1\n",
    "while true\n",
    "    ϵ = ϵ/2\n",
    "    if ϵ + 1 <= 1\n",
    "        break\n",
    "    end\n",
    "end\n",
    "ϵ = 2ϵ"
   ]
  },
  {
   "cell_type": "markdown",
   "metadata": {},
   "source": [
    "Comparamos con el comando eps()"
   ]
  },
  {
   "cell_type": "code",
   "execution_count": 8,
   "metadata": {
    "collapsed": false
   },
   "outputs": [
    {
     "data": {
      "text/plain": [
       "2.220446049250313e-16"
      ]
     },
     "execution_count": 8,
     "metadata": {},
     "output_type": "execute_result"
    }
   ],
   "source": [
    "eps(Float64)"
   ]
  },
  {
   "cell_type": "markdown",
   "metadata": {},
   "source": [
    "### Aproximaciones cuando se realiza un gran número de cálculos"
   ]
  },
  {
   "cell_type": "code",
   "execution_count": 9,
   "metadata": {
    "collapsed": false
   },
   "outputs": [
    {
     "name": "stdout",
     "output_type": "stream",
     "text": [
      "Cálculos son Float32\n",
      "Valor exacto = 100000\n",
      "Valor aproximado = 100000.0\n",
      "Cálculos son Float32\n",
      "Valor exacto = 1\n",
      "Valor aproximado = 1.0009902\n",
      "Cálculos son Float64\n",
      "Valor exacto = 1\n",
      "Valor aproximado = 0.9999999999980838\n"
     ]
    }
   ],
   "source": [
    "sum1 = float32(0.0)\n",
    "sum2 = float32(0.0)\n",
    "sum3 = float64(0.0)\n",
    "\n",
    "x1 = float32(1.0)\n",
    "x2 = float32(1.0e-5)\n",
    "x3 = float64(1.0e-5)\n",
    "\n",
    "for i = 1:100000\n",
    "    sum1 = sum1 + x1\n",
    "    sum2 = sum2 + x2\n",
    "    sum3 = sum3 + x3\n",
    "end\n",
    "\n",
    "println(\"Cálculos son Float32\")\n",
    "println(\"Valor exacto = \", 100000)\n",
    "println(\"Valor aproximado = \", sum1)\n",
    "println(\"Cálculos son Float32\")\n",
    "println(\"Valor exacto = \", 1)\n",
    "println(\"Valor aproximado = \", sum2)\n",
    "println(\"Cálculos son Float64\")\n",
    "println(\"Valor exacto = \", 1)\n",
    "println(\"Valor aproximado = \", sum3)"
   ]
  },
  {
   "cell_type": "markdown",
   "metadata": {},
   "source": [
    "### Cancelación por resta\n",
    "\n",
    "Calcular las raices de\n",
    "\n",
    "\\begin{equation*}\n",
    "    x^{2} + 3000.001 x + 3\n",
    "\\end{equation*}\n",
    "\n",
    "Usando la fórmula\n",
    "\n",
    "\\begin{align*}\n",
    "    x_{1} &= \\frac{-3000.001 + \\sqrt{3000.001^{2} - 4 (1) (3)}}{2 (1)} = -0.001 \\\\\n",
    "    x_{2} &= \\frac{-3000.001 - \\sqrt{3000.001^{2} - 4 (1) (3)}}{2 (1)} = -3000\n",
    "\\end{align*}"
   ]
  },
  {
   "cell_type": "code",
   "execution_count": 10,
   "metadata": {
    "collapsed": false
   },
   "outputs": [
    {
     "name": "stdout",
     "output_type": "stream",
     "text": [
      "Cálculos con Float32\n",
      "x1 = -0.0009765625\n",
      "x2 = -3000.0\n",
      "Cálculos con Float64\n",
      "x1 = -0.0009999999999763531\n",
      "x2 = -3000.0\n"
     ]
    }
   ],
   "source": [
    "a = float32(1.0)\n",
    "b = float32(3000.001)\n",
    "c = float32(3.0)\n",
    "\n",
    "d = sqrt(b^2 - 4*a*c)\n",
    "x1 = (-b + d) / 2*a\n",
    "x2 = (-b - d) / 2*a\n",
    "\n",
    "println(\"Cálculos con Float32\")\n",
    "println(\"x1 = \", x1)\n",
    "println(\"x2 = \", x2)\n",
    "\n",
    "a = 1.0\n",
    "b = 3000.001\n",
    "c = 3.0\n",
    "\n",
    "d = sqrt(b^2 - 4*a*c)\n",
    "x1 = (-b + d) / 2*a\n",
    "x2 = (-b - d) / 2*a\n",
    "\n",
    "println(\"Cálculos con Float64\")\n",
    "println(\"x1 = \", x1)\n",
    "println(\"x2 = \", x2)"
   ]
  },
  {
   "cell_type": "markdown",
   "metadata": {},
   "source": [
    "Cuando $b^{2} \\gg 4ac$ se racionaliza la fórmula\n",
    "\n",
    "\\begin{align}\n",
    "    x_{1} &= \\frac{-b + \\sqrt{b^{2} - 4 a c}}{2 a} \\left( \\frac{-b - \\sqrt{b^{2} - 4 a c}}{-b - \\sqrt{b^{2} - 4 a c}} \\right) = \\frac{-2 c}{b + \\sqrt{b^{2} - 4 a c}} \\\\\n",
    "    x_{2} &= \\frac{-b - \\sqrt{b^{2} - 4 a c}}{2 a} \\left( \\frac{-b + \\sqrt{b^{2} - 4 a c}}{-b + \\sqrt{b^{2} - 4 a c}} \\right) = \\frac{-2 c}{b - \\sqrt{b^{2} - 4 a c}}\n",
    "\\end{align}"
   ]
  },
  {
   "cell_type": "code",
   "execution_count": 11,
   "metadata": {
    "collapsed": false
   },
   "outputs": [
    {
     "name": "stdout",
     "output_type": "stream",
     "text": [
      "Cálculos con Float32\n",
      "x1 = -0.001\n",
      "x2 = -3072.0\n",
      "Cálculos con Float64\n",
      "x1 = -0.001\n",
      "x2 = -3000.0000000709406\n"
     ]
    }
   ],
   "source": [
    "a = float32(1.0)\n",
    "b = float32(3000.001)\n",
    "c = float32(3.0)\n",
    "\n",
    "d = sqrt(b^2 - 4*a*c)\n",
    "x1 = -2*c / (b + d)\n",
    "x2 = -2*c / (b - d)\n",
    "\n",
    "println(\"Cálculos con Float32\")\n",
    "println(\"x1 = \", x1)\n",
    "println(\"x2 = \", x2)\n",
    "\n",
    "a = 1.0\n",
    "b = 3000.001\n",
    "c = 3.0\n",
    "\n",
    "d = sqrt(b^2 - 4*a*c)\n",
    "x1 = -2*c / (b + d)\n",
    "x2 = -2*c / (b - d)\n",
    "\n",
    "println(\"Cálculos con Float64\")\n",
    "println(\"x1 = \", x1)\n",
    "println(\"x2 = \", x2)"
   ]
  },
  {
   "cell_type": "markdown",
   "metadata": {},
   "source": [
    "### Convergencia\n",
    "\n",
    "Calcular $e^{x}$ usando series de Maclaurin para $x = 10$ y $x = -10$:\n",
    "\n",
    "\\begin{equation*}\n",
    "    e^{x} = \\frac{x^{0}}{0!} + \\frac{x^{1}}{1!} + \\frac{x^{2}}{2!} + \\frac{x^{3}}{3!} + \\cdots\n",
    "\\end{equation*}\n",
    "\n",
    "Esta vez no usaremos la función factorial() en la función que calculará $e^{x}$, se usará el siguiente método:\n",
    "\n",
    "\\begin{equation*}\n",
    "    e^{x} = 1 + (1) \\frac{x}{1} + (1) ( \\frac{x}{1} ) \\frac{x}{2} + (1) ( \\frac{x}{1} ) ( \\frac{x}{2} ) \\frac{x}{3} + (1) ( \\frac{x}{1} ) ( \\frac{x}{2} ) ( \\frac{x}{3} ) \\frac{x}{4} + \\cdots\n",
    "\\end{equation*}"
   ]
  },
  {
   "cell_type": "code",
   "execution_count": 12,
   "metadata": {
    "collapsed": false
   },
   "outputs": [
    {
     "data": {
      "text/plain": [
       "seriee (generic function with 1 method)"
      ]
     },
     "execution_count": 12,
     "metadata": {},
     "output_type": "execute_result"
    }
   ],
   "source": [
    "function seriee(x)\n",
    "    i = 0\n",
    "    valor_anterior = float32(0.0)\n",
    "    sumando = float32(1.0)\n",
    "    valor_actual = float32(1.0)\n",
    "    @printf(\"%s \\t %s \\t %s \\t %20s\\n\", \"i\", \"valor_anterior\", \"sumando\", \"valor_actual\")\n",
    "    \n",
    "    while true\n",
    "        i += 1\n",
    "        valor_anterior = valor_actual\n",
    "        sumando = sumando * float32(x)/i \n",
    "        valor_actual = valor_actual + sumando\n",
    "        @printf(\"%d \\t %0.12f \\t %0.12f \\t %0.12f\\n\", i, valor_anterior, sumando, valor_actual)\n",
    "        if valor_actual == valor_anterior\n",
    "            break\n",
    "        end\n",
    "    end\n",
    "    println(\"exp($(x)) = \", exp(x))\n",
    "end"
   ]
  },
  {
   "cell_type": "code",
   "execution_count": 13,
   "metadata": {
    "collapsed": false
   },
   "outputs": [
    {
     "name": "stdout",
     "output_type": "stream",
     "text": [
      "i \t valor_anterior \t sumando \t         valor_actual\n",
      "1 \t 1.000000000000 \t 10.000000000000 \t 11.000000000000\n",
      "2 \t 11.000000000000 \t 50.000000000000 \t 61.000000000000\n",
      "3 \t 61.000000000000 \t 166.666671752930 \t 227.666671752930\n",
      "4 \t 227.666671752930 \t 416.666687011719 \t 644.333374023438\n",
      "5 \t 644.333374023438 \t 833.333374023438 \t 1477.666748046875\n",
      "6 \t 1477.666748046875 \t 1388.889038085938 \t 2866.555664062500\n",
      "7 \t 2866.555664062500 \t 1984.127197265625 \t 4850.682617187500\n",
      "8 \t 4850.682617187500 \t 2480.158935546875 \t 7330.841796875000\n",
      "9 \t 7330.841796875000 \t 2755.732177734375 \t 10086.574218750000\n",
      "10 \t 10086.574218750000 \t 2755.732177734375 \t 12842.306640625000\n",
      "11 \t 12842.306640625000 \t 2505.211181640625 \t 15347.517578125000\n",
      "12 \t 15347.517578125000 \t 2087.676025390625 \t 17435.193359375000\n",
      "13 \t 17435.193359375000 \t 1605.904541015625 \t 19041.097656250000\n",
      "14 \t 19041.097656250000 \t 1147.074584960938 \t 20188.171875000000\n",
      "15 \t 20188.171875000000 \t 764.716430664063 \t 20952.888671875000\n",
      "16 \t 20952.888671875000 \t 477.947753906250 \t 21430.835937500000\n",
      "17 \t 21430.835937500000 \t 281.145751953125 \t 21711.982421875000\n",
      "18 \t 21711.982421875000 \t 156.192077636719 \t 21868.173828125000\n",
      "19 \t 21868.173828125000 \t 82.206359863281 \t 21950.380859375000\n",
      "20 \t 21950.380859375000 \t 41.103179931641 \t 21991.484375000000\n",
      "21 \t 21991.484375000000 \t 19.572942733765 \t 22011.056640625000\n",
      "22 \t 22011.056640625000 \t 8.896792411804 \t 22019.953125000000\n",
      "23 \t 22019.953125000000 \t 3.868170738220 \t 22023.822265625000\n",
      "24 \t 22023.822265625000 \t 1.611737847328 \t 22025.433593750000\n",
      "25 \t 22025.433593750000 \t 0.644695103168 \t 22026.078125000000\n",
      "26 \t 22026.078125000000 \t 0.247959643602 \t 22026.326171875000\n",
      "27 \t 22026.326171875000 \t 0.091836899519 \t 22026.417968750000\n",
      "28 \t 22026.417968750000 \t 0.032798893750 \t 22026.451171875000\n",
      "29 \t 22026.451171875000 \t 0.011309962720 \t 22026.462890625000\n",
      "30 \t 22026.462890625000 \t 0.003769987496 \t 22026.466796875000\n",
      "31 \t 22026.466796875000 \t 0.001216124976 \t 22026.468750000000\n",
      "32 \t 22026.468750000000 \t 0.000380039040 \t 22026.468750000000\n",
      "exp(10) = 22026.465794806718\n"
     ]
    }
   ],
   "source": [
    "seriee(10)"
   ]
  },
  {
   "cell_type": "code",
   "execution_count": 14,
   "metadata": {
    "collapsed": false
   },
   "outputs": [
    {
     "name": "stdout",
     "output_type": "stream",
     "text": [
      "i \t valor_anterior \t sumando \t         valor_actual\n",
      "1 \t 1.000000000000 \t -10.000000000000 \t -9.000000000000\n",
      "2 \t -9.000000000000 \t 50.000000000000 \t 41.000000000000\n",
      "3 \t 41.000000000000 \t -166.666671752930 \t -125.666671752930\n",
      "4 \t -125.666671752930 \t 416.666687011719 \t 291.000000000000\n",
      "5 \t 291.000000000000 \t -833.333374023438 \t -542.333374023438\n",
      "6 \t -542.333374023438 \t 1388.889038085938 \t 846.555664062500\n",
      "7 \t 846.555664062500 \t -1984.127197265625 \t -1137.571533203125\n",
      "8 \t -1137.571533203125 \t 2480.158935546875 \t 1342.587402343750\n",
      "9 \t 1342.587402343750 \t -2755.732177734375 \t -1413.144775390625\n",
      "10 \t -1413.144775390625 \t 2755.732177734375 \t 1342.587402343750\n",
      "11 \t 1342.587402343750 \t -2505.211181640625 \t -1162.623779296875\n",
      "12 \t -1162.623779296875 \t 2087.676025390625 \t 925.052246093750\n",
      "13 \t 925.052246093750 \t -1605.904541015625 \t -680.852294921875\n",
      "14 \t -680.852294921875 \t 1147.074584960938 \t 466.222290039063\n",
      "15 \t 466.222290039063 \t -764.716430664063 \t -298.494140625000\n",
      "16 \t -298.494140625000 \t 477.947753906250 \t 179.453613281250\n",
      "17 \t 179.453613281250 \t -281.145751953125 \t -101.692138671875\n",
      "18 \t -101.692138671875 \t 156.192077636719 \t 54.499938964844\n",
      "19 \t 54.499938964844 \t -82.206359863281 \t -27.706420898438\n",
      "20 \t -27.706420898438 \t 41.103179931641 \t 13.396759033203\n",
      "21 \t 13.396759033203 \t -19.572942733765 \t -6.176183700562\n",
      "22 \t -6.176183700562 \t 8.896792411804 \t 2.720608711243\n",
      "23 \t 2.720608711243 \t -3.868170738220 \t -1.147562026978\n",
      "24 \t -1.147562026978 \t 1.611737847328 \t 0.464175820351\n",
      "25 \t 0.464175820351 \t -0.644695103168 \t -0.180519282818\n",
      "26 \t -0.180519282818 \t 0.247959643602 \t 0.067440360785\n",
      "27 \t 0.067440360785 \t -0.091836899519 \t -0.024396538734\n",
      "28 \t -0.024396538734 \t 0.032798893750 \t 0.008402355015\n",
      "29 \t 0.008402355015 \t -0.011309962720 \t -0.002907607704\n",
      "30 \t -0.002907607704 \t 0.003769987496 \t 0.000862379791\n",
      "31 \t 0.000862379791 \t -0.001216124976 \t -0.000353745185\n",
      "32 \t -0.000353745185 \t 0.000380039040 \t 0.000026293856\n",
      "33 \t 0.000026293856 \t -0.000115163341 \t -0.000088869485\n",
      "34 \t -0.000088869485 \t 0.000033871573 \t -0.000054997912\n",
      "35 \t -0.000054997912 \t -0.000009677592 \t -0.000064675507\n",
      "36 \t -0.000064675507 \t 0.000002688220 \t -0.000061987288\n",
      "37 \t -0.000061987288 \t -0.000000726546 \t -0.000062713836\n",
      "38 \t -0.000062713836 \t 0.000000191196 \t -0.000062522638\n",
      "39 \t -0.000062522638 \t -0.000000049025 \t -0.000062571664\n",
      "40 \t -0.000062571664 \t 0.000000012256 \t -0.000062559411\n",
      "41 \t -0.000062559411 \t -0.000000002989 \t -0.000062562402\n",
      "42 \t -0.000062562402 \t 0.000000000712 \t -0.000062561689\n",
      "43 \t -0.000062561689 \t -0.000000000166 \t -0.000062561856\n",
      "44 \t -0.000062561856 \t 0.000000000038 \t -0.000062561820\n",
      "45 \t -0.000062561820 \t -0.000000000008 \t -0.000062561827\n",
      "46 \t -0.000062561827 \t 0.000000000002 \t -0.000062561827\n",
      "exp(-10) = 4.5399929762484854e-5\n"
     ]
    }
   ],
   "source": [
    "seriee(-10)"
   ]
  }
 ],
 "metadata": {
  "kernelspec": {
   "display_name": "Julia 0.3.6",
   "language": "julia",
   "name": "julia 0.3"
  },
  "language_info": {
   "name": "julia",
   "version": "0.3.6"
  }
 },
 "nbformat": 4,
 "nbformat_minor": 0
}
