{
 "cells": [
  {
   "cell_type": "code",
   "execution_count": 1,
   "metadata": {
    "collapsed": false
   },
   "outputs": [
    {
     "data": {
      "text/plain": [
       "f (generic function with 1 method)"
      ]
     },
     "execution_count": 1,
     "metadata": {},
     "output_type": "execute_result"
    }
   ],
   "source": [
    "function f(x,y)\n",
    "    4*exp(0.8*x) - (0.5*y)\n",
    "end"
   ]
  },
  {
   "cell_type": "markdown",
   "metadata": {},
   "source": [
    "# Métodos de Runge-Kutta (RK)"
   ]
  },
  {
   "cell_type": "markdown",
   "metadata": {},
   "source": [
    "Los métodos implícitos tienen la siguiente forma generalizada\n",
    "\n",
    "\\begin{align}\n",
    "    k_{1} &= f(t_{n}, y_{n}) \\\\\n",
    "    k_{2} &= f(t_{n} + c_{2} h, y_{n} + h(a_{21} k_{1})) \\\\\n",
    "    k_{3} &= f(t_{n} + c_{3} h, y_{n} + h(a_{31} k_{1} + a_{32} k_{2})) \\\\\n",
    "    \\vdots \\\\\n",
    "    k_{s} &= f(t_{n} + c_{s} h, y_{n} + h(a_{s1} k_{1} + a_{s2} k_{2} + \\cdots + a_{s,s-1} k_{s-1})) \\\\\n",
    "    y_{n+1} &= y_{n} + h \\sum^{s}_{i=1} b_{i} k_{i}\n",
    "\\end{align}\n",
    "\n",
    "Las ecuaciones anteriores pueden representarse usando la tabla de *Butcher*\n",
    "\n",
    "\\begin{array}{c|c c}\n",
    "0 & & & & & \\\\\n",
    "c_{2} & a_{21} & & & & \\\\\n",
    "c_{3} & a_{31} & a_{32} & & & \\\\\n",
    "\\vdots & \\vdots & & \\ddots & & \\\\\n",
    "c_{s} & a_{s1} & a_{s2} & \\cdots & a_{s,s-1} & \\\\\n",
    "\\hline\n",
    "& b_{1} & b_{2} & \\cdots & b_{s-1} & b_{s}\n",
    "\\end{array}"
   ]
  },
  {
   "cell_type": "markdown",
   "metadata": {},
   "source": [
    "### Método de primer orden"
   ]
  },
  {
   "cell_type": "markdown",
   "metadata": {},
   "source": [
    "Para $s = 1$\n",
    "\n",
    "\\begin{align}\n",
    "    k_{1} &= f(t_{n}, y_{n}) \\\\\n",
    "    y_{n+1} &= y_{n} + h b_{1} k_{1}\n",
    "\\end{align}\n",
    "\n",
    "tabla de *Butcher*\n",
    "\n",
    "\\begin{array}{c|c}\n",
    "0 & \\\\\n",
    "\\hline\n",
    "& 1\n",
    "\\end{array}\n",
    "\n",
    "reemplazando se obtiene el método de Euler\n",
    "\n",
    "\\begin{align}\n",
    "    k_{1} &= f(t_{n}, y_{n}) \\\\\n",
    "    y_{n+1} &= y_{n} + h k_{1}\n",
    "\\end{align}"
   ]
  },
  {
   "cell_type": "markdown",
   "metadata": {},
   "source": [
    "### Métodos de segundo orden"
   ]
  },
  {
   "cell_type": "markdown",
   "metadata": {},
   "source": [
    "Para $s = 2$\n",
    "\n",
    "\\begin{align}\n",
    "    k_{1} &= f(t_{n}, y_{n}) \\\\\n",
    "    k_{2} &= f(t_{n} + c_{2} h, y_{n} + h(a_{21} k_{1})) \\\\\n",
    "    y_{n+1} &= y_{n} + h (b_{1} k_{1} + b_{2} k_{2})\n",
    "\\end{align}\n",
    "\n",
    "tabla parametrizada de *Butcher*\n",
    "\n",
    "\\begin{array}{c|c c}\n",
    "0 & & \\\\\n",
    "\\alpha & \\alpha & \\\\\n",
    "\\hline\n",
    "& 1 - \\frac{1}{2 \\alpha} & \\frac{1}{2 \\alpha}\n",
    "\\end{array}\n",
    "\n",
    "si $\\alpha = \\frac{1}{2}$\n",
    "\n",
    "\\begin{array}{c|c c}\n",
    "0 & & \\\\\n",
    "\\frac{1}{2} & \\frac{1}{2} & \\\\\n",
    "\\hline\n",
    "& 0 & 1\n",
    "\\end{array}\n",
    "\n",
    "reemplazando se obtiene el método del punto medio\n",
    "\n",
    "\\begin{align}\n",
    "    k_{1} &= f(t_{n}, y_{n}) \\\\\n",
    "    k_{2} &= f \\left( t_{n} + \\frac{1}{2} h, y_{n} + h \\left( \\frac{1}{2} k_{1} \\right) \\right) \\\\\n",
    "    y_{n+1} &= y_{n} + h k_{2}\n",
    "\\end{align}\n",
    "\n",
    "si $\\alpha = \\frac{2}{3}$\n",
    "\n",
    "\\begin{array}{c|c c}\n",
    "0 & & \\\\\n",
    "\\frac{2}{3} & \\frac{2}{3} & \\\\\n",
    "\\hline\n",
    "& \\frac{1}{4} & \\frac{3}{4}\n",
    "\\end{array}\n",
    "\n",
    "reemplazando se obtiene el método de Ralston\n",
    "\n",
    "\\begin{align}\n",
    "    k_{1} &= f(t_{n}, y_{n}) \\\\\n",
    "    k_{2} &= f \\left( t_{n} + \\frac{2}{3} h, y_{n} + h \\left( \\frac{2}{3} k_{1} \\right) \\right) \\\\\n",
    "    y_{n+1} &= y_{n} + h \\left( \\frac{1}{4} k_{1} + \\frac{3}{4} k_{2} \\right)\n",
    "\\end{align}\n",
    "\n",
    "si $\\alpha = 1$\n",
    "\n",
    "\\begin{array}{c|c c}\n",
    "0 & & \\\\\n",
    "1 & 1 & \\\\\n",
    "\\hline\n",
    "& \\frac{1}{2} & \\frac{1}{2}\n",
    "\\end{array}\n",
    "\n",
    "reemplazando se obtiene el método de Heun\n",
    "\n",
    "\\begin{align}\n",
    "    k_{1} &= f(t_{n}, y_{n}) \\\\\n",
    "    k_{2} &= f( t_{n} + h, y_{n} + h k_{1}) \\\\\n",
    "    y_{n+1} &= y_{n} + h \\left( \\frac{1}{2} k_{1} + \\frac{1}{2} k_{2} \\right)\n",
    "\\end{align}"
   ]
  },
  {
   "cell_type": "markdown",
   "metadata": {},
   "source": [
    "### Métodos de tercer orden"
   ]
  },
  {
   "cell_type": "markdown",
   "metadata": {},
   "source": [
    "Para $s = 3$\n",
    "\n",
    "\\begin{align}\n",
    "    k_{1} &= f(t_{n}, y_{n}) \\\\\n",
    "    k_{2} &= f(t_{n} + c_{2} h, y_{n} + h(a_{21} k_{1})) \\\\\n",
    "    k_{3} &= f(t_{n} + c_{3} h, y_{n} + h(a_{31} k_{1} + a_{32} k_{2})) \\\\\n",
    "    y_{n+1} &= y_{n} + h (b_{1} k_{1} + b_{2} k_{2} + b_{3} k_{3})\n",
    "\\end{align}\n",
    "\n",
    "tabla de *Butcher*\n",
    "\n",
    "\\begin{array}{c|c c c}\n",
    "0 & & & \\\\\n",
    "\\frac{1}{2} & \\frac{1}{2} & & \\\\\n",
    "1 & -1 & 2 & \\\\\n",
    "\\hline\n",
    "& \\frac{1}{6} & \\frac{2}{3} & \\frac{1}{6}\n",
    "\\end{array}\n",
    "\n",
    "reemplazando se obtiene\n",
    "\n",
    "\\begin{align}\n",
    "    k_{1} &= f(t_{n}, y_{n}) \\\\\n",
    "    k_{2} &= f \\left( t_{n} + \\frac{1}{2} h, y_{n} + h \\left( \\frac{1}{2} k_{1} \\right) \\right) \\\\\n",
    "    k_{3} &= f(t_{n} + h, y_{n} + h(-k_{1} + 2 k_{2})) \\\\\n",
    "    y_{n+1} &= y_{n} + h \\left( \\frac{1}{6} k_{1} + \\frac{2}{3} k_{2} + \\frac{1}{6} k_{3} \\right)\n",
    "\\end{align}"
   ]
  },
  {
   "cell_type": "markdown",
   "metadata": {},
   "source": [
    "Resolver:\n",
    "\n",
    "\\begin{align}\n",
    "    y' &= 4 e^{0.8 x} - 0.5 y \\\\\n",
    "    y(0) &= 2 \\\\\n",
    "    y(1) &= ?\n",
    "\\end{align}\n",
    "\n",
    "Para la solución numérica elegimos $n = 2$\n",
    "\n",
    "\\begin{equation}\n",
    "    h = \\frac{x_{f} - x_{i}}{n} = \\frac{1 - 0}{2} = 0.5\n",
    "\\end{equation}\n",
    "\n",
    "Iteracion 0:\n",
    "\n",
    "\\begin{align}\n",
    "    y_{0} &= 2 \\\\\n",
    "    x_{0} &= 0 \n",
    "\\end{align}\n",
    "\n",
    "Iteración 1:\n",
    "\n",
    "\\begin{align}\n",
    "    k_{1} &= f(x_{0}, y_{0}) = f(0, 2) \\\\\n",
    "    &= 4 e^{0.8 (0)} - 0.5 (2) = 3 \\\\\n",
    "    k_{2} &= f \\left( x_{0} + \\frac{1}{2} h, y_{0} + h \\left( \\frac{1}{2} k_{1} \\right) \\right) = f ( 0 + 0.5(0.5), 2 + 0.5(0.5 \\cdot 3)) = f(0.25, 2.75) \\\\\n",
    "    &= 4 e^{0.8 (0.25)} - 0.5 (2.75) = 3.511 \\\\\n",
    "    k_{3} &= f(x_{0} + h, y_{0} + h(-k_{1} + 2 k_{2})) = f ( 0 + 0.5, 2 + 0.5[-3 + 2 (3.511)]) = f(0.5, 4.011) \\\\\n",
    "    &= 4 e^{0.8 (0.5)} - 0.5 (4.011) = 3.962 \\\\\n",
    "    y_{1} &= y_{0} + h \\left( \\frac{1}{6} k_{1} + \\frac{2}{3} k_{2} + \\frac{1}{6} k_{3} \\right) \\\\\n",
    "    &= 2 + 0.5[0.167(3) + 0.667(3.511) + 0.167(3.962)] = 3.752 \\\\\n",
    "    x_{1} &= x_{0} + h \\\\\n",
    "    &= 0 + 0.5 = 0.5\n",
    "\\end{align}\n",
    "\n",
    "Iteración 2:\n",
    "\n",
    "\\begin{align}\n",
    "    k_{1} &= f(x_{1}, y_{1}) = f(0.5, 3.752) \\\\\n",
    "    &= 4 e^{0.8 (0.5)} - 0.5 (3.752) = 4.091 \\\\\n",
    "    k_{2} &= f \\left( x_{1} + \\frac{1}{2} h, y_{1} + h \\left( \\frac{1}{2} k_{1} \\right) \\right) = f ( 0.5 + 0.5(0.5), 3.752 + 0.5(0.5 \\cdot 4.091)) = f(0.75, 4.775) \\\\\n",
    "    &= 4 e^{0.8 (0.75)} - 0.5 (4.775) = 4.901 \\\\\n",
    "    k_{3} &= f(x_{1} + h, y_{1} + h(-k_{1} + 2 k_{2})) = f ( 0.5 + 0.5, 3.752 + 0.5[-4.091 + 2 (4.901)]) = f(1, 6.608) \\\\\n",
    "    &= 4 e^{0.8 (1)} - 0.5 (6.608) = 5.598 \\\\\n",
    "    y_{2} &= y_{1} + h \\left( \\frac{1}{6} k_{1} + \\frac{2}{3} k_{2} + \\frac{1}{6} k_{3} \\right) \\\\\n",
    "    &= 3.752 + 0.5[0.167(4.091) + 0.667(4.901) + 0.167(5.598)] = 6.196 \\\\\n",
    "    x_{2} &= x_{1} + h \\\\\n",
    "    &= 0 + 0.5 = 0.5\n",
    "\\end{align}"
   ]
  },
  {
   "cell_type": "code",
   "execution_count": 2,
   "metadata": {
    "collapsed": false
   },
   "outputs": [
    {
     "data": {
      "text/plain": [
       "prueba1 (generic function with 1 method)"
      ]
     },
     "execution_count": 2,
     "metadata": {},
     "output_type": "execute_result"
    }
   ],
   "source": [
    "function prueba1(f::Function, n, xi, yi, xf)\n",
    "    h = (xf - xi)/n\n",
    "    y = yi\n",
    "    x = xi\n",
    "    c2 = 1/2\n",
    "    a21 = 1/2\n",
    "    c3 = 1\n",
    "    a31 = -1\n",
    "    a32 = 2\n",
    "    b1 = 1/6\n",
    "    b2 = 2/3\n",
    "    b3 = 1/6\n",
    "    @printf(\"%s  %s  %8s  %8s  %7s  %8s\\n\", \"i\", \"k1\", \"k2\", \"k3\", \"x\", \"y\")\n",
    "    for i = 1:n\n",
    "        k1 = f(x,y)\n",
    "        k2 = f(x + (c2 * h), y + (h * a21 * k1))\n",
    "        k3 = f(x + (c3 * h), y + (h * ((a31 * k1) + (a32 * k2))))\n",
    "        y = y + (h * ((b1 * k1) + (b2 * k2) + (b3 * k3)))\n",
    "        x = x + h\n",
    "        @printf(\"%d  %f  %f  %f  %f  %f\\n\", i, k1, k2, k3, x, y)\n",
    "    end\n",
    "    println(\"x = $x\")\n",
    "    println(\"y = $y\")\n",
    "end"
   ]
  },
  {
   "cell_type": "code",
   "execution_count": 3,
   "metadata": {
    "collapsed": false
   },
   "outputs": [
    {
     "name": "stdout",
     "output_type": "stream",
     "text": [
      "i  k1        k2        k3        x         y\n",
      "1  3.000000  3.510611  3.961993  0.500000  3.750370\n",
      "2  4.092114  4.901776  5.599119  1.000000  6.191898\n",
      "x = 1.0\n",
      "y = 6.191897904461273\n"
     ]
    }
   ],
   "source": [
    "prueba1(f,2,0,2,1)"
   ]
  },
  {
   "cell_type": "markdown",
   "metadata": {},
   "source": [
    "tabla de *Butcher*\n",
    "\n",
    "\\begin{array}{c|c c c}\n",
    "0 & & & \\\\\n",
    "\\frac{1}{2} & \\frac{1}{2} & & \\\\\n",
    "\\frac{3}{4} & 0 & \\frac{3}{4} & \\\\\n",
    "\\hline\n",
    "& \\frac{2}{9} & \\frac{1}{3} & \\frac{4}{9}\n",
    "\\end{array}\n",
    "\n",
    "reemplazando se obtiene\n",
    "\n",
    "\\begin{align}\n",
    "    k_{1} &= f(t_{n}, y_{n}) \\\\\n",
    "    k_{2} &= f \\left( t_{n} + \\frac{1}{2} h, y_{n} + h \\left( \\frac{1}{2} k_{1} \\right) \\right) \\\\\n",
    "    k_{3} &= f \\left( t_{n} + \\frac{3}{4} h, y_{n} + h \\left( \\frac{3}{4} k_{2} \\right) \\right) \\\\\n",
    "    y_{n+1} &= y_{n} + h \\left( \\frac{2}{9} k_{1} + \\frac{1}{3} k_{2} + \\frac{4}{9} k_{3} \\right)\n",
    "\\end{align}"
   ]
  },
  {
   "cell_type": "markdown",
   "metadata": {},
   "source": [
    "Resolver:\n",
    "\n",
    "\\begin{align}\n",
    "    y' &= 4 e^{0.8 x} - 0.5 y \\\\\n",
    "    y(0) &= 2 \\\\\n",
    "    y(1) &= ?\n",
    "\\end{align}\n",
    "\n",
    "Para la solución numérica elegimos $n = 2$\n",
    "\n",
    "\\begin{equation}\n",
    "    h = \\frac{x_{f} - x_{i}}{n} = \\frac{1 - 0}{2} = 0.5\n",
    "\\end{equation}\n",
    "\n",
    "Iteracion 0:\n",
    "\n",
    "\\begin{align}\n",
    "    y_{0} &= 2 \\\\\n",
    "    x_{0} &= 0 \n",
    "\\end{align}\n",
    "\n",
    "Iteración 1:\n",
    "\n",
    "\\begin{align}\n",
    "    k_{1} &= f(x_{0}, y_{0}) = f(0, 2) \\\\\n",
    "    &= 4 e^{0.8 (0)} - 0.5 (2) = 3 \\\\\n",
    "    k_{2} &= f \\left( x_{0} + \\frac{1}{2} h, y_{0} + h \\left( \\frac{1}{2} k_{1} \\right) \\right) = f ( 0 + 0.5(0.5), 2 + 0.5(0.5 \\cdot 3)) = f(0.25, 2.75) \\\\\n",
    "    &= 4 e^{0.8 (0.25)} - 0.5 (2.75) = 3.511 \\\\\n",
    "    k_{3} &= f \\left( x_{0} + \\frac{3}{4} h, y_{0} + h \\left( \\frac{3}{4} k_{2} \\right) \\right) = f ( 0 + 0.75(0.5), 2 + 0.5(0.75 \\cdot 3.511)) = f(0.375, 3.317) \\\\\n",
    "    &= 4 e^{0.8 (0.375)} - 0.5 (3.317) = 3.741 \\\\\n",
    "    y_{1} &= y_{0} + h \\left( \\frac{2}{9} k_{1} + \\frac{1}{3} k_{2} + \\frac{4}{9} k_{3} \\right) \\\\\n",
    "    &= 2 + 0.5[0.222(3) + 0.333(3.511) + 0.444(3.741)] = 3.748 \\\\\n",
    "    x_{1} &= x_{0} + h \\\\\n",
    "    &= 0 + 0.5 = 0.5\n",
    "\\end{align}\n",
    "\n",
    "Iteración 2:\n",
    "\n",
    "\\begin{align}\n",
    "    k_{1} &= f(x_{1}, y_{1}) = f(0.5, 3.748) \\\\\n",
    "    &= 4 e^{0.8 (0.5)} - 0.5 (3.748) = 4.093 \\\\\n",
    "    k_{2} &= f \\left( x_{1} + \\frac{1}{2} h, y_{1} + h \\left( \\frac{1}{2} k_{1} \\right) \\right) = f ( 0.5 + 0.5(0.5), 3.748 + 0.5(0.5 \\cdot 4.093)) = f(0.75, 4.771) \\\\\n",
    "    &= 4 e^{0.8 (0.75)} - 0.5 (4.771) = 4.903 \\\\\n",
    "    k_{3} &= f \\left( x_{1} + \\frac{3}{4} h, y_{1} + h \\left( \\frac{3}{4} k_{2} \\right) \\right) = f ( 0.5 + 0.75(0.5), 3.748 + 0.5(0.75 \\cdot 4.903)) = f(0.875, 5.587) \\\\\n",
    "    &= 4 e^{0.8 (0.875)} - 0.5 (5.587) = 5.262 \\\\\n",
    "    y_{2} &= y_{1} + h \\left( \\frac{2}{9} k_{1} + \\frac{1}{3} k_{2} + \\frac{4}{9} k_{3} \\right) \\\\\n",
    "    &= 3.748 + 0.5[0.222(4.093) + 0.333(4.903) + 0.444(5.262)] = 6.187 \\\\\n",
    "    x_{2} &= x_{1} + h \\\\\n",
    "    &= 0.5 + 0.5 = 1\n",
    "\\end{align}"
   ]
  },
  {
   "cell_type": "code",
   "execution_count": 4,
   "metadata": {
    "collapsed": false
   },
   "outputs": [
    {
     "data": {
      "text/plain": [
       "prueba2 (generic function with 1 method)"
      ]
     },
     "execution_count": 4,
     "metadata": {},
     "output_type": "execute_result"
    }
   ],
   "source": [
    "function prueba2(f::Function, n, xi, yi, xf)\n",
    "    h = (xf - xi)/n\n",
    "    y = yi\n",
    "    x = xi\n",
    "    c2 = 1/2\n",
    "    a21 = 1/2\n",
    "    c3 = 3/4\n",
    "    a31 = 0\n",
    "    a32 = 3/4\n",
    "    b1 = 2/9\n",
    "    b2 = 1/3\n",
    "    b3 = 4/9\n",
    "    @printf(\"%s  %s  %8s  %8s  %7s  %8s\\n\", \"i\", \"k1\", \"k2\", \"k3\", \"x\", \"y\")\n",
    "    for i = 1:n\n",
    "        k1 = f(x,y)\n",
    "        k2 = f(x + (c2 * h), y + (h * a21 * k1))\n",
    "        k3 = f(x + (c3 * h), y + (h * ((a31 * k1) + (a32 * k2))))\n",
    "        y = y + (h * ((b1 * k1) + (b2 * k2) + (b3 * k3)))\n",
    "        x = x + h\n",
    "        @printf(\"%d  %f  %f  %f  %f  %f\\n\", i, k1, k2, k3, x, y)\n",
    "    end\n",
    "    println(\"x = $x\")\n",
    "    println(\"y = $y\")\n",
    "end"
   ]
  },
  {
   "cell_type": "code",
   "execution_count": 5,
   "metadata": {
    "collapsed": false
   },
   "outputs": [
    {
     "name": "stdout",
     "output_type": "stream",
     "text": [
      "i  k1        k2        k3        x         y\n",
      "1  3.000000  3.510611  3.741196  0.500000  3.749812\n",
      "2  4.092393  4.902020  5.260976  1.000000  6.190631\n",
      "x = 1.0\n",
      "y = 6.190631440722479\n"
     ]
    }
   ],
   "source": [
    "prueba2(f,2,0,2,1)"
   ]
  },
  {
   "cell_type": "markdown",
   "metadata": {},
   "source": [
    "### Métodos de cuarto orden"
   ]
  },
  {
   "cell_type": "markdown",
   "metadata": {},
   "source": [
    "Para $s = 4$\n",
    "\n",
    "\\begin{align}\n",
    "    k_{1} &= f(t_{n}, y_{n}) \\\\\n",
    "    k_{2} &= f(t_{n} + c_{2} h, y_{n} + h(a_{21} k_{1})) \\\\\n",
    "    k_{3} &= f(t_{n} + c_{3} h, y_{n} + h(a_{31} k_{1} + a_{32} k_{2})) \\\\\n",
    "    k_{4} &= f(t_{n} + c_{4} h, y_{n} + h(a_{41} k_{1} + a_{42} k_{2} + a_{43} k_{3})) \\\\\n",
    "    y_{n+1} &= y_{n} + h (b_{1} k_{1} + b_{2} k_{2} + b_{3} k_{3} + b_{4} k_{4})\n",
    "\\end{align}\n",
    "\n",
    "tabla parametrizada de *Butcher* desarrollado por Tan Delin y Chen Zhen\n",
    "\n",
    "\\begin{array}{c|c c c}\n",
    "0 & & & & \\\\\n",
    "\\frac{1}{2} & \\frac{1}{2} & & & \\\\\n",
    "\\frac{1}{2} & \\frac{1}{2} - \\frac{1}{\\lambda} & \\frac{1}{\\lambda} & & \\\\\n",
    "1 & 0 & 1 - \\frac{\\lambda}{2} & \\frac{\\lambda}{2} & \\\\\n",
    "\\hline\n",
    "& \\frac{1}{6} & \\frac{4 - \\lambda}{6} & \\frac{\\lambda}{6} & \\frac{1}{6}\n",
    "\\end{array}\n",
    "\n",
    "si $\\lambda = 2$\n",
    "\n",
    "\\begin{array}{c|c c c}\n",
    "0 & & & & \\\\\n",
    "\\frac{1}{2} & \\frac{1}{2} & & & \\\\\n",
    "\\frac{1}{2} & 0 & \\frac{1}{2} & & \\\\\n",
    "1 & 0 & 0 & 1 & \\\\\n",
    "\\hline\n",
    "& \\frac{1}{6} & \\frac{1}{3} & \\frac{1}{3} & \\frac{1}{6}\n",
    "\\end{array}\n",
    "\n",
    "reemplazando se obtiene el método clásico de cuarto orden\n",
    "\n",
    "\\begin{align}\n",
    "    k_{1} &= f(t_{n}, y_{n}) \\\\\n",
    "    k_{2} &= f \\left( t_{n} + \\frac{1}{2} h, y_{n} + h \\left( \\frac{1}{2} k_{1} \\right) \\right) \\\\\n",
    "    k_{3} &= f \\left( t_{n} + \\frac{1}{2} h, y_{n} + h \\left( \\frac{1}{2} k_{2} \\right) \\right) \\\\\n",
    "    k_{4} &= f(t_{n} + h, y_{n} + h(k_{3})) \\\\\n",
    "    y_{n+1} &= y_{n} + h \\left( \\frac{1}{6} k_{1} + \\frac{1}{3} k_{2} + \\frac{1}{3} k_{3} + \\frac{1}{6} k_{4} \\right)\n",
    "\\end{align}"
   ]
  },
  {
   "cell_type": "markdown",
   "metadata": {},
   "source": [
    "Resolver:\n",
    "\n",
    "\\begin{align}\n",
    "    y' &= 4 e^{0.8 x} - 0.5 y \\\\\n",
    "    y(0) &= 2 \\\\\n",
    "    y(1) &= ?\n",
    "\\end{align}\n",
    "\n",
    "Para la solución numérica elegimos $n = 2$\n",
    "\n",
    "\\begin{equation}\n",
    "    h = \\frac{x_{f} - x_{i}}{n} = \\frac{1 - 0}{2} = 0.5\n",
    "\\end{equation}\n",
    "\n",
    "Iteracion 0:\n",
    "\n",
    "\\begin{align}\n",
    "    y_{0} &= 2 \\\\\n",
    "    x_{0} &= 0 \n",
    "\\end{align}\n",
    "\n",
    "Iteración 1:\n",
    "\n",
    "\\begin{align}\n",
    "    k_{1} &= f(x_{0}, y_{0}) = f(0, 2) \\\\\n",
    "    &= 4 e^{0.8 (0)} - 0.5 (2) = 3 \\\\\n",
    "    k_{2} &= f \\left( x_{0} + \\frac{1}{2} h, y_{0} + h \\left( \\frac{1}{2} k_{1} \\right) \\right) = f ( 0 + 0.5(0.5), 2 + 0.5(0.5 \\cdot 3)) = f(0.25, 2.75) \\\\\n",
    "    &= 4 e^{0.8 (0.25)} - 0.5 (2.75) = 3.511 \\\\\n",
    "    k_{3} &= f \\left( x_{0} + \\frac{1}{2} h, y_{0} + h \\left( \\frac{1}{2} k_{2} \\right) \\right)  = f ( 0 + 0.5(0.5), 2 + 0.5(0.5 \\cdot 3.511)) = f(0.25, 2.878) \\\\\n",
    "    &= 4 e^{0.8 (0.25)} - 0.5 (2.878) = 3.447 \\\\\n",
    "    k_{4} &= f(x_{0} + h, y_{0} + h(k_{3}))  = f(0 + 0.5, 2 + 0.5(3.447)) = f(0.5, 3.724) \\\\\n",
    "    &= 4 e^{0.8 (0.5)} - 0.5 (3.724) = 4.105 \\\\\n",
    "    y_{1} &= y_{0} + h \\left( \\frac{1}{6} k_{1} + \\frac{1}{3} k_{2} + \\frac{1}{3} k_{3} + \\frac{1}{6} k_{4} \\right) \\\\\n",
    "    &= 2 + 0.5[0.167(3) + 0.333(3.511) + 0.333(3.447) + 0.167(4.105)] = 3.752 \\\\\n",
    "    x_{1} &= x_{0} + h \\\\\n",
    "    &= 0 + 0.5 = 0.5\n",
    "\\end{align}\n",
    "\n",
    "Iteración 2:\n",
    "\n",
    "\\begin{align}\n",
    "    k_{1} &= f(x_{1}, y_{1}) = f(0.5, 3.752) \\\\\n",
    "    &= 4 e^{0.8 (0.5)} - 0.5 (3.752) = 4.091 \\\\\n",
    "    k_{2} &= f \\left( x_{1} + \\frac{1}{2} h, y_{1} + h \\left( \\frac{1}{2} k_{1} \\right) \\right) = f ( 0.5 + 0.5(0.5), 3.752 + 0.5(0.5 \\cdot 4.091)) = f(0.75, 4.775) \\\\\n",
    "    &= 4 e^{0.8 (0.75)} - 0.5 (4.775) = 4.901 \\\\\n",
    "    k_{3} &= f \\left( x_{1} + \\frac{1}{2} h, y_{1} + h \\left( \\frac{1}{2} k_{2} \\right) \\right)  = f ( 0.5 + 0.5(0.5), 3.752 + 0.5(0.5 \\cdot 4.901)) = f(0.75, 4.977) \\\\\n",
    "    &= 4 e^{0.8 (0.75)} - 0.5 (4.977) = 4.8 \\\\\n",
    "    k_{4} &= f(x_{1} + h, y_{1} + h(k_{3}))  = f(0.5 + 0.5, 3.752 + 0.5(4.8)) = f(1, 6.152) \\\\\n",
    "    &= 4 e^{0.8 (1)} - 0.5 (6.152) = 5.826 \\\\\n",
    "    y_{2} &= y_{1} + h \\left( \\frac{1}{6} k_{1} + \\frac{1}{3} k_{2} + \\frac{1}{3} k_{3} + \\frac{1}{6} k_{4} \\right) \\\\\n",
    "    &= 3.752 + 0.5[0.167(4.091) + 0.333(4.901) + 0.333(4.8) + 0.167(5.826)] = 6.195 \\\\\n",
    "    x_{2} &= x_{1} + h \\\\\n",
    "    &= 0.5 + 0.5 = 1\n",
    "\\end{align}"
   ]
  },
  {
   "cell_type": "code",
   "execution_count": 6,
   "metadata": {
    "collapsed": false
   },
   "outputs": [
    {
     "data": {
      "text/plain": [
       "prueba3 (generic function with 1 method)"
      ]
     },
     "execution_count": 6,
     "metadata": {},
     "output_type": "execute_result"
    }
   ],
   "source": [
    "function prueba3(f::Function, n, xi, yi, xf)\n",
    "    h = (xf - xi)/n\n",
    "    y = yi\n",
    "    x = xi\n",
    "    c2 = 1/2\n",
    "    a21 = 1/2\n",
    "    c3 = 1/2\n",
    "    a31 = 0\n",
    "    a32 = 1/2\n",
    "    c4 = 1\n",
    "    a41 = 0\n",
    "    a42 = 0\n",
    "    a43 = 1\n",
    "    b1 = 1/6\n",
    "    b2 = 1/3\n",
    "    b3 = 1/3\n",
    "    b4 = 1/6\n",
    "    @printf(\"%s  %s  %8s  %8s  %8s  %7s  %8s\\n\", \"i\", \"k1\", \"k2\", \"k3\", \"k4\", \"x\", \"y\")\n",
    "    for i = 1:n\n",
    "        k1 = f(x,y)\n",
    "        k2 = f(x + (c2 * h), y + (h * a21 * k1))\n",
    "        k3 = f(x + (c3 * h), y + (h * ((a31 * k1) + (a32 * k2))))\n",
    "        k4 = f(x + (c4 * h), y + (h * ((a41 * k1) + (a42 * k2) + (a43 * k3))))\n",
    "        y = y + (h * ((b1 * k1) + (b2 * k2) + (b3 * k3) + (b4 * k4)))\n",
    "        x = x + h\n",
    "        @printf(\"%d  %f  %f  %f  %f  %f  %f\\n\", i, k1, k2, k3, k4, x, y)\n",
    "    end\n",
    "    println(\"x = $x\")\n",
    "    println(\"y = $y\")\n",
    "end"
   ]
  },
  {
   "cell_type": "code",
   "execution_count": 7,
   "metadata": {
    "collapsed": false
   },
   "outputs": [
    {
     "name": "stdout",
     "output_type": "stream",
     "text": [
      "i  k1        k2        k3        k4        x         y\n",
      "1  3.000000  3.510611  3.446785  4.105603  0.500000  3.751699\n",
      "2  4.091449  4.901194  4.799976  5.826320  1.000000  6.195042\n",
      "x = 1.0\n",
      "y = 6.1950419941330015\n"
     ]
    }
   ],
   "source": [
    "prueba3(f,2,0,2,1)"
   ]
  },
  {
   "cell_type": "markdown",
   "metadata": {},
   "source": [
    "Método regla $\\frac{3}{8}$ (Kutta, 1901)\n",
    "\n",
    "\\begin{array}{c|c c c}\n",
    "0 & & & & \\\\\n",
    "\\frac{1}{3} & \\frac{1}{3} & & & \\\\\n",
    "\\frac{2}{3} & -\\frac{1}{3} & 1 & & \\\\\n",
    "1 & 1 & -1 & 1 & \\\\\n",
    "\\hline\n",
    "& \\frac{1}{8} & \\frac{3}{8} & \\frac{3}{8} & \\frac{1}{8}\n",
    "\\end{array}\n",
    "\n",
    "reemplazando\n",
    "\n",
    "\\begin{align}\n",
    "    k_{1} &= f(t_{n}, y_{n}) \\\\\n",
    "    k_{2} &= f \\left( t_{n} + \\frac{1}{3} h, y_{n} + h \\left( \\frac{1}{3} k_{1} \\right) \\right) \\\\\n",
    "    k_{3} &= f \\left( t_{n} + \\frac{2}{3} h, y_{n} + h \\left( -\\frac{1}{3} k_{1} + k_{2} \\right) \\right) \\\\\n",
    "    k_{4} &= f(t_{n} + h, y_{n} + h(k_{1} - k_{2} + k_{3})) \\\\\n",
    "    y_{n+1} &= y_{n} + h \\left( \\frac{1}{8} k_{1} + \\frac{3}{8} k_{2} + \\frac{3}{8} k_{3} + \\frac{1}{8} k_{4} \\right)\n",
    "\\end{align}"
   ]
  },
  {
   "cell_type": "markdown",
   "metadata": {},
   "source": [
    "Resolver:\n",
    "\n",
    "\\begin{align}\n",
    "    y' &= 4 e^{0.8 x} - 0.5 y \\\\\n",
    "    y(0) &= 2 \\\\\n",
    "    y(1) &= ?\n",
    "\\end{align}\n",
    "\n",
    "Para la solución numérica elegimos $n = 2$\n",
    "\n",
    "\\begin{equation}\n",
    "    h = \\frac{x_{f} - x_{i}}{n} = \\frac{1 - 0}{2} = 0.5\n",
    "\\end{equation}\n",
    "\n",
    "Iteracion 0:\n",
    "\n",
    "\\begin{align}\n",
    "    y_{0} &= 2 \\\\\n",
    "    x_{0} &= 0 \n",
    "\\end{align}\n",
    "\n",
    "Iteración 1:\n",
    "\n",
    "\\begin{align}\n",
    "    k_{1} &= f(x_{0}, y_{0}) = f(0, 2) \\\\\n",
    "    &= 4 e^{0.8 (0)} - 0.5 (2) = 3 \\\\\n",
    "    k_{2} &= f \\left( x_{0} + \\frac{1}{3} h, y_{0} + h \\left( \\frac{1}{3} k_{1} \\right) \\right) = f ( 0 + 0.333(0.5), 2 + 0.5(0.333 \\cdot 3)) = f(0.166, 2.5) \\\\\n",
    "    &= 4 e^{0.8 (0.166)} - 0.5 (2.5) = 3.318 \\\\\n",
    "    k_{3} &= f \\left( x_{0} + \\frac{2}{3} h, y_{0} + h \\left( -\\frac{1}{3} k_{1} + k_{2} \\right) \\right) = f ( 0 + 0.667(0.5), 2 + 0.5[(-0.333 \\cdot 3) + 3.318]) = f(0.334, 3.16) \\\\\n",
    "    &= 4 e^{0.8 (0.334)} - 0.5 (3.16) = 3.645 \\\\\n",
    "    k_{4} &= f(x_{0} + h, y_{0} + h(k_{1} - k_{2} + k_{3})) = f(0 + 0.5, 2 + 0.5(3 - 3.318 + 3.645)) = f(0.5, 3.664) \\\\\n",
    "    &= 4 e^{0.8 (0.5)} - 0.5 (3.664) = 4.135 \\\\\n",
    "    y_{1} &= y_{0} + h \\left( \\frac{1}{8} k_{1} + \\frac{3}{8} k_{2} + \\frac{3}{8} k_{3} + \\frac{1}{8} k_{4} \\right) \\\\\n",
    "    &= 2 + 0.5[0.125(3) + 0.375(3.318) + 0.375(3.645) + 0.125(4.135)] = 3.752 \\\\\n",
    "    x_{1} &= x_{0} + h \\\\\n",
    "    &= 0 + 0.5 = 0.5\n",
    "\\end{align}\n",
    "\n",
    "Iteración 2:\n",
    "\n",
    "\\begin{align}\n",
    "    k_{1} &= f(x_{1}, y_{1}) = f(0.5, 3.752) \\\\\n",
    "    &= 4 e^{0.8 (0.5)} - 0.5 (3.752) = 4.091 \\\\\n",
    "    k_{2} &= f \\left( x_{1} + \\frac{1}{3} h, y_{1} + h \\left( \\frac{1}{3} k_{1} \\right) \\right) = f ( 0.5 + 0.333(0.5), 3.752 + 0.5(0.333 \\cdot 4.091)) = f(0.666, 4.433) \\\\\n",
    "    &= 4 e^{0.8 (0.666)} - 0.5 (4.433) = 4.598 \\\\\n",
    "    k_{3} &= f \\left( x_{1} + \\frac{2}{3} h, y_{1} + h \\left( -\\frac{1}{3} k_{1} + k_{2} \\right) \\right) = f ( 0.5 + 0.667(0.5), 3.752 + 0.5[(-0.333 \\cdot 4.091) + 4.598]) = f(0.834, 5.37) \\\\\n",
    "    &= 4 e^{0.8 (0.834)} - 0.5 (5.37) = 5.11 \\\\\n",
    "    k_{4} &= f(x_{1} + h, y_{1} + h(k_{1} - k_{2} + k_{3})) = f(0.5 + 0.5, 3.752 + 0.5(4.091 - 4.598 + 5.11)) = f(1, 6.054) \\\\\n",
    "    &= 4 e^{0.8 (1)} - 0.5 (6.054) = 5.875 \\\\\n",
    "    y_{2} &= y_{1} + h \\left( \\frac{1}{8} k_{1} + \\frac{3}{8} k_{2} + \\frac{3}{8} k_{3} + \\frac{1}{8} k_{4} \\right) \\\\\n",
    "    &= 3.752 + 0.5[0.125(4.091) + 0.375(4.598) + 0.375(5.11) + 0.125(5.875)] = 6.195 \\\\\n",
    "    x_{2} &= x_{1} + h \\\\\n",
    "    &= 0.5 + 0.5 = 1\n",
    "\\end{align}"
   ]
  },
  {
   "cell_type": "code",
   "execution_count": 8,
   "metadata": {
    "collapsed": false
   },
   "outputs": [
    {
     "data": {
      "text/plain": [
       "prueba4 (generic function with 1 method)"
      ]
     },
     "execution_count": 8,
     "metadata": {},
     "output_type": "execute_result"
    }
   ],
   "source": [
    "function prueba4(f::Function, n, xi, yi, xf)\n",
    "    h = (xf - xi)/n\n",
    "    y = yi\n",
    "    x = xi\n",
    "    c2 = 1/3\n",
    "    a21 = 1/3\n",
    "    c3 = 2/3\n",
    "    a31 = -1/3\n",
    "    a32 = 1\n",
    "    c4 = 1\n",
    "    a41 = 1\n",
    "    a42 = -1\n",
    "    a43 = 1\n",
    "    b1 = 1/8\n",
    "    b2 = 3/8\n",
    "    b3 = 3/8\n",
    "    b4 = 1/8\n",
    "    @printf(\"%s  %s  %8s  %8s  %8s  %7s  %8s\\n\", \"i\", \"k1\", \"k2\", \"k3\", \"k4\", \"x\", \"y\")\n",
    "    for i = 1:n\n",
    "        k1 = f(x,y)\n",
    "        k2 = f(x + (c2 * h), y + (h * a21 * k1))\n",
    "        k3 = f(x + (c3 * h), y + (h * ((a31 * k1) + (a32 * k2))))\n",
    "        k4 = f(x + (c4 * h), y + (h * ((a41 * k1) + (a42 * k2) + (a43 * k3))))\n",
    "        y = y + (h * ((b1 * k1) + (b2 * k2) + (b3 * k3) + (b4 * k4)))\n",
    "        x = x + h\n",
    "        @printf(\"%d  %f  %f  %f  %f  %f  %f\\n\", i, k1, k2, k3, k4, x, y)\n",
    "    end\n",
    "    println(\"x = $x\")\n",
    "    println(\"y = $y\")\n",
    "end"
   ]
  },
  {
   "cell_type": "code",
   "execution_count": 9,
   "metadata": {
    "collapsed": false
   },
   "outputs": [
    {
     "name": "stdout",
     "output_type": "stream",
     "text": [
      "i  k1        k2        k3        k4        x         y\n",
      "1  3.000000  3.320523  3.642290  4.136857  0.500000  3.751581\n",
      "2  4.091508  4.601670  5.105687  5.877492  1.000000  6.194773\n",
      "x = 1.0\n",
      "y = 6.194772995719224\n"
     ]
    }
   ],
   "source": [
    "prueba4(f,2,0,2,1)"
   ]
  },
  {
   "cell_type": "markdown",
   "metadata": {},
   "source": [
    "### Métodos de quinto orden"
   ]
  },
  {
   "cell_type": "markdown",
   "metadata": {},
   "source": [
    "Para $s = 6$\n",
    "\n",
    "\\begin{align}\n",
    "    k_{1} &= f(t_{n}, y_{n}) \\\\\n",
    "    k_{2} &= f(t_{n} + c_{2} h, y_{n} + h(a_{21} k_{1})) \\\\\n",
    "    k_{3} &= f(t_{n} + c_{3} h, y_{n} + h(a_{31} k_{1} + a_{32} k_{2})) \\\\\n",
    "    k_{4} &= f(t_{n} + c_{4} h, y_{n} + h(a_{41} k_{1} + a_{42} k_{2} + a_{43} k_{3})) \\\\\n",
    "    k_{5} &= f(t_{n} + c_{5} h, y_{n} + h(a_{51} k_{1} + a_{52} k_{2} + a_{53} k_{3} + a_{54} k_{3})) \\\\\n",
    "    k_{6} &= f(t_{n} + c_{6} h, y_{n} + h(a_{61} k_{1} + a_{62} k_{2} + a_{63} k_{3} + a_{64} k_{3} + a_{65} k_{3})) \\\\\n",
    "    y_{n+1} &= y_{n} + h (b_{1} k_{1} + b_{2} k_{2} + b_{3} k_{3} + b_{4} k_{4} + b_{5} k_{5} + b_{6} k_{6})\n",
    "\\end{align}\n",
    "\n",
    "Método RK de quinto orden de Butcher (1964)\n",
    "\n",
    "\\begin{array}{c|c c c c}\n",
    "0 & & & & & & \\\\\n",
    "\\frac{1}{4} & \\frac{1}{4} & & & & & \\\\\n",
    "\\frac{1}{4} & \\frac{1}{8} & \\frac{1}{8} & & & & \\\\\n",
    "\\frac{1}{2} & 0 & -\\frac{1}{2} & 1 & & & \\\\\n",
    "\\frac{3}{4} & \\frac{3}{16} & 0 & 0 & \\frac{9}{16} & & \\\\\n",
    "1 & -\\frac{3}{7} & \\frac{2}{7} & \\frac{12}{7} & -\\frac{12}{7} & \\frac{8}{7} & \\\\\n",
    "\\hline\n",
    "& \\frac{7}{90} & 0 & \\frac{16}{45} & \\frac{2}{15} & \\frac{16}{15} & \\frac{7}{90}\n",
    "\\end{array}\n",
    "\n",
    "reemplazando se obtiene\n",
    "\n",
    "\\begin{align}\n",
    "    k_{1} &= f(t_{n}, y_{n}) \\\\\n",
    "    k_{2} &= f \\left( t_{n} + \\frac{1}{4} h, y_{n} + h \\left( \\frac{1}{4} k_{1} \\right) \\right) \\\\\n",
    "    k_{3} &= f \\left( t_{n} + \\frac{1}{4} h, y_{n} + h \\left( \\frac{1}{8} k_{1} + \\frac{1}{8} k_{2} \\right) \\right) \\\\\n",
    "    k_{4} &= f \\left( t_{n} + \\frac{1}{2} h, y_{n} + h \\left( -\\frac{1}{2} k_{2} + k_{3} \\right) \\right) \\\\\n",
    "    k_{5} &= f \\left( t_{n} + \\frac{3}{4} h, y_{n} + h \\left( \\frac{3}{16} k_{1} + \\frac{9}{16} k_{4} \\right) \\right) \\\\\n",
    "    k_{6} &= f \\left( t_{n} + h, y_{n} + h \\left( -\\frac{3}{7} k_{1} + \\frac{2}{7} k_{2} + \\frac{12}{7} k_{3} - \\frac{12}{7} k_{4} + \\frac{8}{7} k_{5} \\right) \\right) \\\\\n",
    "    y_{n+1} &= y_{n} + h \\left( \\frac{7}{90} k_{1} + \\frac{32}{90} k_{3} + \\frac{12}{90} k_{4} + \\frac{32}{90} k_{5} + \\frac{7}{90} k_{6} \\right)\n",
    "\\end{align}"
   ]
  },
  {
   "cell_type": "code",
   "execution_count": 10,
   "metadata": {
    "collapsed": false
   },
   "outputs": [
    {
     "data": {
      "text/plain": [
       "prueba5 (generic function with 1 method)"
      ]
     },
     "execution_count": 10,
     "metadata": {},
     "output_type": "execute_result"
    }
   ],
   "source": [
    "function prueba5(f::Function, n, xi, yi, xf)\n",
    "    h = (xf - xi)/n\n",
    "    y = yi\n",
    "    x = xi\n",
    "    c2 = 1/4\n",
    "    a21 = 1/4\n",
    "    c3 = 1/4\n",
    "    a31 = 1/8\n",
    "    a32 = 1/8\n",
    "    c4 = 1/2\n",
    "    a41 = 0\n",
    "    a42 = -1/2\n",
    "    a43 = 1\n",
    "    c5 = 3/4\n",
    "    a51 = 3/16\n",
    "    a52 = 0\n",
    "    a53 = 0\n",
    "    a54 = 9/16\n",
    "    c6 = 1\n",
    "    a61 = -3/7\n",
    "    a62 = 2/7\n",
    "    a63 = 12/7\n",
    "    a64 = -12/7\n",
    "    a65 = 8/7\n",
    "    b1 = 7/90\n",
    "    b2 = 0\n",
    "    b3 = 16/45\n",
    "    b4 = 2/15\n",
    "    b5 = 16/45\n",
    "    b6 = 7/90\n",
    "    @printf(\"%s  %s  %8s  %8s  %8s  %8s  %8s  %7s  %8s\\n\", \"i\", \"k1\", \"k2\", \"k3\", \"k4\", \"k5\", \"k6\", \"x\", \"y\")\n",
    "    for i = 1:n\n",
    "        k1 = f(x,y)\n",
    "        k2 = f(x + (c2 * h), y + (h * a21 * k1))\n",
    "        k3 = f(x + (c3 * h), y + (h * ((a31 * k1) + (a32 * k2))))\n",
    "        k4 = f(x + (c4 * h), y + (h * ((a41 * k1) + (a42 * k2) + (a43 * k3))))\n",
    "        k5 = f(x + (c5 * h), y + (h * ((a51 * k1) + (a52 * k2) + (a53 * k3) + (a54 * k4))))\n",
    "        k6 = f(x + (c6 * h), y + (h * ((a61 * k1) + (a62 * k2) + (a63 * k3) + (a64 * k4) + (a65 * k5))))\n",
    "        y = y + (h * ((b1 * k1) + (b2 * k2) + (b3 * k3) + (b4 * k4) + (b5 * k5) + (b6 * k6)))\n",
    "        x = x + h\n",
    "        @printf(\"%d  %f  %f  %f  %f  %f  %f  %f  %f\\n\", i, k1, k2, k3, k4, k5, k6, x, y)\n",
    "    end\n",
    "    println(\"x = $x\")\n",
    "    println(\"y = $y\")\n",
    "end"
   ]
  },
  {
   "cell_type": "code",
   "execution_count": 11,
   "metadata": {
    "collapsed": false
   },
   "outputs": [
    {
     "name": "stdout",
     "output_type": "stream",
     "text": [
      "i  k1        k2        k3        k4        k5        k6        x         y\n",
      "1  3.000000  3.233184  3.225897  3.483285  3.768973  4.091245  0.500000  3.751522\n",
      "2  4.091538  4.463403  4.451782  4.857694  5.304346  5.804402  1.000000  6.194633\n",
      "x = 1.0\n",
      "y = 6.194633188434668\n"
     ]
    }
   ],
   "source": [
    "prueba5(f,2,0,2,1)"
   ]
  },
  {
   "cell_type": "code",
   "execution_count": 12,
   "metadata": {
    "collapsed": false
   },
   "outputs": [],
   "source": []
  }
 ],
 "metadata": {
  "kernelspec": {
   "display_name": "Julia 0.3.6",
   "language": "julia",
   "name": "julia 0.3"
  },
  "language_info": {
   "name": "julia",
   "version": "0.3.6"
  }
 },
 "nbformat": 4,
 "nbformat_minor": 0
}
